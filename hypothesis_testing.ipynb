{
 "cells": [
  {
   "cell_type": "markdown",
   "id": "50962924-9f6b-4d30-8349-af4a8d68266c",
   "metadata": {
    "tags": []
   },
   "source": [
    "#### 1. Has the network latency gone up since we switched internet service providers?"
   ]
  },
  {
   "cell_type": "code",
   "execution_count": 5,
   "id": "3ed9154f-5eaf-4204-9b57-c15a490225b2",
   "metadata": {
    "jp-MarkdownHeadingCollapsed": true,
    "tags": []
   },
   "outputs": [],
   "source": [
    "# Ho = Network latency is not longer than before with the new internet service provider.\n",
    "# Hα = Network latency is longer than before with the new internet service provider.\n",
    "# True Positive = Low p-value, narrow confidence interval, drop in average latency with new internet service provider than with the previous internet service provider.\n",
    "# True Negative = There is no difference in the average latencies with or without the new internet service provider. OR, the average latency is less with the new one\n",
    "# Type I Error = There are other factors causing *temporary* slower internet (weather)\n",
    "# Type II Error = There are other services slowing down the internet service (large apps running in background)"
   ]
  },
  {
   "cell_type": "markdown",
   "id": "18e804a5-a209-4ad4-8b55-6eb05f48ac3c",
   "metadata": {},
   "source": [
    "#### 2. Is the website design any good?"
   ]
  },
  {
   "cell_type": "code",
   "execution_count": 6,
   "id": "dd0a6eb4-27e0-4ce0-b6e8-864c8704fc44",
   "metadata": {},
   "outputs": [],
   "source": [
    "# Ho = Customers are not making more purchases with the new website design.\n",
    "# Hα = Customers are making more purchases with the new website design.\n",
    "# True Positive = Low p-value, narrow confidence interval, same rate of new customers and churn, increased rate of purchases being made\n",
    "# True Negative = same rate of new customers and churn, rate of purchases is unchanged or lowers\n",
    "# Type I Error = reject null but true, redesign launched for new company, increase in sales was only increase in general popularity\n",
    "# Type II Error = accept null but false, redesign launched during pandemic, steady or decrease in sales due to market crashing"
   ]
  },
  {
   "cell_type": "markdown",
   "id": "91b4c55d-34ab-4449-9720-0c4eeae3163f",
   "metadata": {},
   "source": [
    "#### 3. Is our television ad driving more sales?"
   ]
  },
  {
   "cell_type": "code",
   "execution_count": 7,
   "id": "218b55da-6573-4a7f-883b-545297ead08d",
   "metadata": {},
   "outputs": [],
   "source": [
    "# Ho = Customers are making more purchases because of our television ad \n",
    "# Hα = Customers are not making more purchases becasue of our television ad\n",
    "# True Positive = Low p-value, narrow confidence interval, customers are completing survey during checkout that they heard about our products via tv ad \n",
    "# True Negative = customers are completeing survey during checkout that they heard about our products via any other method\n",
    "# Type I Error = reject null but true, increase in feedback about the tv ad due to top (fastest) option in checkout survey\n",
    "# Type II Error = accept null but false, people are watching regular tv less and less, might not reach target audience"
   ]
  },
  {
   "cell_type": "code",
   "execution_count": null,
   "id": "47354ace-0ae4-43c5-a1dd-bd653bf4dd2f",
   "metadata": {},
   "outputs": [],
   "source": []
  }
 ],
 "metadata": {
  "kernelspec": {
   "display_name": "Python 3 (ipykernel)",
   "language": "python",
   "name": "python3"
  },
  "language_info": {
   "codemirror_mode": {
    "name": "ipython",
    "version": 3
   },
   "file_extension": ".py",
   "mimetype": "text/x-python",
   "name": "python",
   "nbconvert_exporter": "python",
   "pygments_lexer": "ipython3",
   "version": "3.9.12"
  }
 },
 "nbformat": 4,
 "nbformat_minor": 5
}
