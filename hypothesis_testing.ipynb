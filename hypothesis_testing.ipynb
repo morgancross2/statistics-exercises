{
 "cells": [
  {
   "cell_type": "markdown",
   "id": "4516005f-3d17-4ebd-97aa-3f17e5ebe2ff",
   "metadata": {},
   "source": [
    "## HYPOTHESIS BUILDING"
   ]
  },
  {
   "cell_type": "markdown",
   "id": "50962924-9f6b-4d30-8349-af4a8d68266c",
   "metadata": {
    "tags": []
   },
   "source": [
    "#### 1. Has the network latency gone up since we switched internet service providers?"
   ]
  },
  {
   "cell_type": "code",
   "execution_count": 5,
   "id": "3ed9154f-5eaf-4204-9b57-c15a490225b2",
   "metadata": {
    "jp-MarkdownHeadingCollapsed": true,
    "tags": []
   },
   "outputs": [],
   "source": [
    "# Ho = Network latency is not longer than before with the new internet service provider.\n",
    "# Hα = Network latency is longer than before with the new internet service provider.\n",
    "# True Positive = Low p-value, narrow confidence interval, drop in average latency with new internet service provider than with the previous internet service provider.\n",
    "# True Negative = There is no difference in the average latencies with or without the new internet service provider. OR, the average latency is less with the new one\n",
    "# Type I Error = There are other factors causing *temporary* slower internet (weather)\n",
    "# Type II Error = There are other services slowing down the internet service (large apps running in background)"
   ]
  },
  {
   "cell_type": "markdown",
   "id": "18e804a5-a209-4ad4-8b55-6eb05f48ac3c",
   "metadata": {},
   "source": [
    "#### 2. Is the website design any good?"
   ]
  },
  {
   "cell_type": "code",
   "execution_count": 6,
   "id": "dd0a6eb4-27e0-4ce0-b6e8-864c8704fc44",
   "metadata": {},
   "outputs": [],
   "source": [
    "# Ho = Customers are not making more purchases with the new website design.\n",
    "# Hα = Customers are making more purchases with the new website design.\n",
    "# True Positive = Low p-value, narrow confidence interval, same rate of new customers and churn, increased rate of purchases being made\n",
    "# True Negative = same rate of new customers and churn, rate of purchases is unchanged or lowers\n",
    "# Type I Error = reject null but true, redesign launched for new company, increase in sales was only increase in general popularity\n",
    "# Type II Error = accept null but false, redesign launched during pandemic, steady or decrease in sales due to market crashing"
   ]
  },
  {
   "cell_type": "markdown",
   "id": "91b4c55d-34ab-4449-9720-0c4eeae3163f",
   "metadata": {},
   "source": [
    "#### 3. Is our television ad driving more sales?"
   ]
  },
  {
   "cell_type": "code",
   "execution_count": 7,
   "id": "218b55da-6573-4a7f-883b-545297ead08d",
   "metadata": {},
   "outputs": [],
   "source": [
    "# Ho = Customers are making more purchases because of our television ad \n",
    "# Hα = Customers are not making more purchases becasue of our television ad\n",
    "# True Positive = Low p-value, narrow confidence interval, customers are completing survey during checkout that they heard about our products via tv ad \n",
    "# True Negative = customers are completeing survey during checkout that they heard about our products via any other method\n",
    "# Type I Error = reject null but true, increase in feedback about the tv ad due to top (fastest) option in checkout survey\n",
    "# Type II Error = accept null but false, people are watching regular tv less and less, might not reach target audience"
   ]
  },
  {
   "cell_type": "markdown",
   "id": "c90e1cc7-502e-43e5-b4a0-4da14ea51fe8",
   "metadata": {},
   "source": [
    "## T-TEST"
   ]
  },
  {
   "cell_type": "code",
   "execution_count": 1,
   "id": "93d5946a-6958-4a53-a7c7-6e09b98da4db",
   "metadata": {},
   "outputs": [],
   "source": [
    "import numpy as np\n",
    "import seaborn as sns\n",
    "import scipy.stats as stats\n",
    "import pandas as pd\n",
    "import matplotlib.pyplot as plt\n",
    "from pydataset import data"
   ]
  },
  {
   "cell_type": "markdown",
   "id": "58434c2f-0fc0-4d9e-ab02-8ba3e53872bc",
   "metadata": {},
   "source": [
    "#### 1. Ace Realty wants to determine whether the average time it takes to sell homes is different for its two offices. A sample of 40 sales from office #1 revealed a mean of 90 days and a standard deviation of 15 days. A sample of 50 sales from office #2 revealed a mean of 100 days and a standard deviation of 20 days. Use a .05 level of significance."
   ]
  },
  {
   "cell_type": "code",
   "execution_count": 2,
   "id": "70219cce-3abc-497f-9b1c-fad268bea72f",
   "metadata": {},
   "outputs": [],
   "source": [
    "cust1 = 40\n",
    "μ1 = 90\n",
    "σ1 = 15\n",
    "cust2 = 50\n",
    "μ2 = 100\n",
    "σ2 = 20\n",
    "α = .05\n",
    "\n",
    "sales1 = stats.norm(μ1, σ1)\n",
    "sales2 = stats.norm(μ2, σ2)"
   ]
  },
  {
   "cell_type": "code",
   "execution_count": 3,
   "id": "2c3c5126-a36e-437d-ae30-274d66c80a4a",
   "metadata": {},
   "outputs": [],
   "source": [
    "bus1 = sales1.rvs(cust1)\n",
    "bus2 = sales2.rvs(cust2)"
   ]
  },
  {
   "cell_type": "code",
   "execution_count": 4,
   "id": "b529525b-ccad-4df9-b853-5f2725dc25d8",
   "metadata": {},
   "outputs": [
    {
     "data": {
      "text/plain": [
       "<AxesSubplot:ylabel='Count'>"
      ]
     },
     "execution_count": 4,
     "metadata": {},
     "output_type": "execute_result"
    },
    {
     "data": {
      "image/png": "[encoded data removed]",
      "text/plain": [
       "<Figure size 432x288 with 1 Axes>"
      ]
     },
     "metadata": {
      "needs_background": "light"
     },
     "output_type": "display_data"
    }
   ],
   "source": [
    "sns.histplot(bus1)"
   ]
  },
  {
   "cell_type": "code",
   "execution_count": 5,
   "id": "21f9f736-e9e7-40e7-ba3a-ec5dfdc6a74f",
   "metadata": {},
   "outputs": [
    {
     "data": {
      "text/plain": [
       "<AxesSubplot:ylabel='Count'>"
      ]
     },
     "execution_count": 5,
     "metadata": {},
     "output_type": "execute_result"
    },
    {
     "data": {
      "image/png": "[encoded data removed]",
      "text/plain": [
       "<Figure size 432x288 with 1 Axes>"
      ]
     },
     "metadata": {
      "needs_background": "light"
     },
     "output_type": "display_data"
    }
   ],
   "source": [
    "sns.histplot(bus2)"
   ]
  },
  {
   "cell_type": "code",
   "execution_count": 6,
   "id": "4f79291f-e78a-46ff-b31c-ceece826fdb4",
   "metadata": {},
   "outputs": [
    {
     "data": {
      "text/plain": [
       "(92.30766445368805, 101.57527916840425)"
      ]
     },
     "execution_count": 6,
     "metadata": {},
     "output_type": "execute_result"
    }
   ],
   "source": [
    "bus1.mean(), bus2.mean()"
   ]
  },
  {
   "cell_type": "code",
   "execution_count": 7,
   "id": "ca5711da-dd6e-49cf-9554-3e491cb8eea2",
   "metadata": {},
   "outputs": [],
   "source": [
    "# two sample, two tail"
   ]
  },
  {
   "cell_type": "code",
   "execution_count": 8,
   "id": "20a30000-3a96-4c86-996a-9cd0c9bda1cb",
   "metadata": {},
   "outputs": [],
   "source": [
    "# check variance\n",
    "s, p = stats.levene(bus1, bus2)"
   ]
  },
  {
   "cell_type": "code",
   "execution_count": 9,
   "id": "d81d5df5-dc50-4e5c-a25c-5d6ac28b0848",
   "metadata": {},
   "outputs": [
    {
     "data": {
      "text/plain": [
       "False"
      ]
     },
     "execution_count": 9,
     "metadata": {},
     "output_type": "execute_result"
    }
   ],
   "source": [
    "# variance not similar\n",
    "p < α"
   ]
  },
  {
   "cell_type": "code",
   "execution_count": 10,
   "id": "8eb28023-b7bd-414e-a24c-70723ffd5473",
   "metadata": {},
   "outputs": [],
   "source": [
    "t, p = stats.ttest_ind(bus1, bus2)"
   ]
  },
  {
   "cell_type": "code",
   "execution_count": 11,
   "id": "d1fd501a-d10c-4a33-8ad9-f128dd3bd2f5",
   "metadata": {},
   "outputs": [
    {
     "data": {
      "text/plain": [
       "True"
      ]
     },
     "execution_count": 11,
     "metadata": {},
     "output_type": "execute_result"
    }
   ],
   "source": [
    "p < α"
   ]
  },
  {
   "cell_type": "code",
   "execution_count": 12,
   "id": "3dfee59e-0062-4573-8361-d59aa7915143",
   "metadata": {},
   "outputs": [],
   "source": [
    "# reject null hypothesis\n",
    "# the average time it takes to sell the homes between the two offices is significantly different"
   ]
  },
  {
   "cell_type": "code",
   "execution_count": 37,
   "id": "400df4bb-37f3-47d5-8566-f7836a793ac8",
   "metadata": {},
   "outputs": [],
   "source": [
    "## ANOTHER WAY\n",
    "t, p = stats.ttest_ind_from_stats(μ1, σ1, cust1, μ2, σ2, cust2)"
   ]
  },
  {
   "cell_type": "code",
   "execution_count": 38,
   "id": "a0f8a567-85da-41ec-8c75-ec63b90e13f3",
   "metadata": {},
   "outputs": [
    {
     "data": {
      "text/plain": [
       "True"
      ]
     },
     "execution_count": 38,
     "metadata": {},
     "output_type": "execute_result"
    }
   ],
   "source": [
    "p < α"
   ]
  },
  {
   "cell_type": "markdown",
   "id": "61776337-4398-4247-ac36-863d9b96b88e",
   "metadata": {},
   "source": [
    "#### 2. Load the mpg dataset and use it to answer the following questions:"
   ]
  },
  {
   "cell_type": "code",
   "execution_count": 39,
   "id": "282b4c5d-56d9-473d-aed5-c3d3fa122f2c",
   "metadata": {},
   "outputs": [
    {
     "data": {
      "text/html": [
       "<div>\n",
       "<style scoped>\n",
       "    .dataframe tbody tr th:only-of-type {\n",
       "        vertical-align: middle;\n",
       "    }\n",
       "\n",
       "    .dataframe tbody tr th {\n",
       "        vertical-align: top;\n",
       "    }\n",
       "\n",
       "    .dataframe thead th {\n",
       "        text-align: right;\n",
       "    }\n",
       "</style>\n",
       "<table border=\"1\" class=\"dataframe\">\n",
       "  <thead>\n",
       "    <tr style=\"text-align: right;\">\n",
       "      <th></th>\n",
       "      <th>manufacturer</th>\n",
       "      <th>model</th>\n",
       "      <th>displ</th>\n",
       "      <th>year</th>\n",
       "      <th>cyl</th>\n",
       "      <th>trans</th>\n",
       "      <th>drv</th>\n",
       "      <th>cty</th>\n",
       "      <th>hwy</th>\n",
       "      <th>fl</th>\n",
       "      <th>class</th>\n",
       "      <th>fuel_eff</th>\n",
       "    </tr>\n",
       "  </thead>\n",
       "  <tbody>\n",
       "    <tr>\n",
       "      <th>1</th>\n",
       "      <td>audi</td>\n",
       "      <td>a4</td>\n",
       "      <td>1.8</td>\n",
       "      <td>1999</td>\n",
       "      <td>4</td>\n",
       "      <td>auto(l5)</td>\n",
       "      <td>f</td>\n",
       "      <td>18</td>\n",
       "      <td>29</td>\n",
       "      <td>p</td>\n",
       "      <td>compact</td>\n",
       "      <td>23.5</td>\n",
       "    </tr>\n",
       "    <tr>\n",
       "      <th>2</th>\n",
       "      <td>audi</td>\n",
       "      <td>a4</td>\n",
       "      <td>1.8</td>\n",
       "      <td>1999</td>\n",
       "      <td>4</td>\n",
       "      <td>manual(m5)</td>\n",
       "      <td>f</td>\n",
       "      <td>21</td>\n",
       "      <td>29</td>\n",
       "      <td>p</td>\n",
       "      <td>compact</td>\n",
       "      <td>25.0</td>\n",
       "    </tr>\n",
       "    <tr>\n",
       "      <th>3</th>\n",
       "      <td>audi</td>\n",
       "      <td>a4</td>\n",
       "      <td>2.0</td>\n",
       "      <td>2008</td>\n",
       "      <td>4</td>\n",
       "      <td>manual(m6)</td>\n",
       "      <td>f</td>\n",
       "      <td>20</td>\n",
       "      <td>31</td>\n",
       "      <td>p</td>\n",
       "      <td>compact</td>\n",
       "      <td>25.5</td>\n",
       "    </tr>\n",
       "    <tr>\n",
       "      <th>4</th>\n",
       "      <td>audi</td>\n",
       "      <td>a4</td>\n",
       "      <td>2.0</td>\n",
       "      <td>2008</td>\n",
       "      <td>4</td>\n",
       "      <td>auto(av)</td>\n",
       "      <td>f</td>\n",
       "      <td>21</td>\n",
       "      <td>30</td>\n",
       "      <td>p</td>\n",
       "      <td>compact</td>\n",
       "      <td>25.5</td>\n",
       "    </tr>\n",
       "    <tr>\n",
       "      <th>5</th>\n",
       "      <td>audi</td>\n",
       "      <td>a4</td>\n",
       "      <td>2.8</td>\n",
       "      <td>1999</td>\n",
       "      <td>6</td>\n",
       "      <td>auto(l5)</td>\n",
       "      <td>f</td>\n",
       "      <td>16</td>\n",
       "      <td>26</td>\n",
       "      <td>p</td>\n",
       "      <td>compact</td>\n",
       "      <td>21.0</td>\n",
       "    </tr>\n",
       "  </tbody>\n",
       "</table>\n",
       "</div>"
      ],
      "text/plain": [
       "  manufacturer model  displ  year  cyl       trans drv  cty  hwy fl    class  \\\n",
       "1         audi    a4    1.8  1999    4    auto(l5)   f   18   29  p  compact   \n",
       "2         audi    a4    1.8  1999    4  manual(m5)   f   21   29  p  compact   \n",
       "3         audi    a4    2.0  2008    4  manual(m6)   f   20   31  p  compact   \n",
       "4         audi    a4    2.0  2008    4    auto(av)   f   21   30  p  compact   \n",
       "5         audi    a4    2.8  1999    6    auto(l5)   f   16   26  p  compact   \n",
       "\n",
       "   fuel_eff  \n",
       "1      23.5  \n",
       "2      25.0  \n",
       "3      25.5  \n",
       "4      25.5  \n",
       "5      21.0  "
      ]
     },
     "execution_count": 39,
     "metadata": {},
     "output_type": "execute_result"
    }
   ],
   "source": [
    "mpg = pd.DataFrame(data('mpg'))\n",
    "mpg['fuel_eff'] = (mpg.cty + mpg.hwy)/2\n",
    "mpg.head()"
   ]
  },
  {
   "cell_type": "markdown",
   "id": "a365e75a-31ca-4af0-90ba-e08b4ee5b6af",
   "metadata": {},
   "source": [
    "##### 2.a Is there a difference in fuel-efficiency in cars from 2008 vs 1999?"
   ]
  },
  {
   "cell_type": "code",
   "execution_count": 40,
   "id": "084f9172-0e4c-432d-8cc2-231ed7f9feb7",
   "metadata": {},
   "outputs": [],
   "source": [
    "# 2 samples, 2 tails"
   ]
  },
  {
   "cell_type": "code",
   "execution_count": 41,
   "id": "9129c845-241b-45ce-87f2-a6fe906e2316",
   "metadata": {},
   "outputs": [],
   "source": [
    "eight = mpg[mpg.year == 2008].fuel_eff\n",
    "nine = mpg[mpg.year == 1999].fuel_eff"
   ]
  },
  {
   "cell_type": "code",
   "execution_count": 42,
   "id": "782aba98-2047-4386-9d18-98f113b85971",
   "metadata": {},
   "outputs": [
    {
     "data": {
      "text/plain": [
       "<AxesSubplot:xlabel='fuel_eff', ylabel='Count'>"
      ]
     },
     "execution_count": 42,
     "metadata": {},
     "output_type": "execute_result"
    },
    {
     "data": {
      "image/png": "[encoded data removed]",
      "text/plain": [
       "<Figure size 432x288 with 1 Axes>"
      ]
     },
     "metadata": {
      "needs_background": "light"
     },
     "output_type": "display_data"
    }
   ],
   "source": [
    "sns.histplot(eight)"
   ]
  },
  {
   "cell_type": "code",
   "execution_count": 43,
   "id": "c469b922-9a56-43d0-a203-3eba836e3d04",
   "metadata": {},
   "outputs": [
    {
     "data": {
      "text/plain": [
       "<AxesSubplot:xlabel='fuel_eff', ylabel='Count'>"
      ]
     },
     "execution_count": 43,
     "metadata": {},
     "output_type": "execute_result"
    },
    {
     "data": {
      "image/png": "[encoded data removed]",
      "text/plain": [
       "<Figure size 432x288 with 1 Axes>"
      ]
     },
     "metadata": {
      "needs_background": "light"
     },
     "output_type": "display_data"
    }
   ],
   "source": [
    "sns.histplot(nine)"
   ]
  },
  {
   "cell_type": "code",
   "execution_count": 44,
   "id": "c61c6ef1-657a-459a-9a02-7cc4d17a3292",
   "metadata": {},
   "outputs": [
    {
     "data": {
      "text/plain": [
       "(20.076923076923077, 20.22222222222222)"
      ]
     },
     "execution_count": 44,
     "metadata": {},
     "output_type": "execute_result"
    }
   ],
   "source": [
    "eight.mean(), nine.mean()"
   ]
  },
  {
   "cell_type": "code",
   "execution_count": 45,
   "id": "3fa66db0-32b8-400e-92e2-93e2329460b6",
   "metadata": {},
   "outputs": [],
   "source": [
    "α = 0.05"
   ]
  },
  {
   "cell_type": "code",
   "execution_count": 46,
   "id": "9d41167a-f3e7-4eb0-8443-be4f94aac77e",
   "metadata": {},
   "outputs": [],
   "source": [
    "# check for variance\n",
    "s, p = stats.levene(eight, nine)"
   ]
  },
  {
   "cell_type": "code",
   "execution_count": 47,
   "id": "d8400fc3-70c3-4b65-9f87-c71d5bbc941c",
   "metadata": {},
   "outputs": [
    {
     "data": {
      "text/plain": [
       "False"
      ]
     },
     "execution_count": 47,
     "metadata": {},
     "output_type": "execute_result"
    }
   ],
   "source": [
    "# variance is similar\n",
    "p < α"
   ]
  },
  {
   "cell_type": "code",
   "execution_count": 48,
   "id": "e9bf999c-f106-445d-8f2d-5ec9f9739e0d",
   "metadata": {},
   "outputs": [],
   "source": [
    "t, p = stats.ttest_ind(eight, nine)"
   ]
  },
  {
   "cell_type": "code",
   "execution_count": 49,
   "id": "ed9d888b-e754-4716-a7f7-90417db381db",
   "metadata": {},
   "outputs": [
    {
     "data": {
      "text/plain": [
       "False"
      ]
     },
     "execution_count": 49,
     "metadata": {},
     "output_type": "execute_result"
    }
   ],
   "source": [
    "p < α"
   ]
  },
  {
   "cell_type": "code",
   "execution_count": 50,
   "id": "dc371b88-e103-4c30-adf9-36dc163ca8e9",
   "metadata": {},
   "outputs": [],
   "source": [
    "# there is not a difference in fuel efficiency between 2008 and 1999 vehicles\n",
    "# accept null hypothesis"
   ]
  },
  {
   "cell_type": "markdown",
   "id": "02580cf6-8108-4e75-b3d1-052754393491",
   "metadata": {},
   "source": [
    "##### 2.b Are compact cars more fuel-efficient than the average car?"
   ]
  },
  {
   "cell_type": "code",
   "execution_count": 51,
   "id": "2ec8825b-c834-410c-8366-f7faff69f648",
   "metadata": {},
   "outputs": [],
   "source": [
    "# 1 sample, 1 tail"
   ]
  },
  {
   "cell_type": "code",
   "execution_count": 52,
   "id": "86a9b942-0cb4-453f-9429-99bbdcdea43e",
   "metadata": {},
   "outputs": [],
   "source": [
    "compact = mpg[mpg['class'] == 'compact'].fuel_eff\n",
    "μth = mpg.fuel_eff.mean()"
   ]
  },
  {
   "cell_type": "code",
   "execution_count": 53,
   "id": "28c3e595-ecdb-4ff1-9806-d5e15df294ba",
   "metadata": {},
   "outputs": [],
   "source": [
    "t, p = stats.ttest_1samp(compact, μth)"
   ]
  },
  {
   "cell_type": "code",
   "execution_count": 54,
   "id": "44a46778-6dfc-4aa7-9882-990c5967289a",
   "metadata": {},
   "outputs": [
    {
     "data": {
      "text/plain": [
       "(True, True)"
      ]
     },
     "execution_count": 54,
     "metadata": {},
     "output_type": "execute_result"
    }
   ],
   "source": [
    "p/2 < α, t > 0"
   ]
  },
  {
   "cell_type": "code",
   "execution_count": 55,
   "id": "1b3730dd-583f-477c-8b4a-6a53d1bdfdd1",
   "metadata": {},
   "outputs": [],
   "source": [
    "# reject null hypothesis"
   ]
  },
  {
   "cell_type": "markdown",
   "id": "9b546263-1564-496f-b30c-fa67a515efb4",
   "metadata": {},
   "source": [
    "##### 2.c Do manual cars get better gas mileage than automatic cars?"
   ]
  },
  {
   "cell_type": "code",
   "execution_count": 56,
   "id": "fc05e32b-6a6f-47b1-bc74-22714737fa4d",
   "metadata": {},
   "outputs": [],
   "source": [
    "# 2 sample, 1 tail"
   ]
  },
  {
   "cell_type": "code",
   "execution_count": 57,
   "id": "e89158f4-a97f-478a-8972-15e9dac1a9db",
   "metadata": {},
   "outputs": [],
   "source": [
    "manual = mpg[mpg['trans'].str.contains('manual')].fuel_eff\n",
    "auto = mpg[mpg['trans'].str.contains('auto')].fuel_eff"
   ]
  },
  {
   "cell_type": "code",
   "execution_count": 58,
   "id": "af96f042-11cc-4bd9-b1d7-26ddf43ea436",
   "metadata": {},
   "outputs": [],
   "source": [
    "#check variance\n",
    "s, p = stats.levene(manual, auto)"
   ]
  },
  {
   "cell_type": "code",
   "execution_count": 59,
   "id": "d5c3a504-22f7-46af-bab5-c67c19ce6e46",
   "metadata": {},
   "outputs": [
    {
     "data": {
      "text/plain": [
       "False"
      ]
     },
     "execution_count": 59,
     "metadata": {},
     "output_type": "execute_result"
    }
   ],
   "source": [
    "# variance not similar\n",
    "p < α"
   ]
  },
  {
   "cell_type": "code",
   "execution_count": 60,
   "id": "26d24280-c199-4df5-a234-6711b31111bc",
   "metadata": {},
   "outputs": [],
   "source": [
    "t, p = stats.ttest_ind(manual, auto)"
   ]
  },
  {
   "cell_type": "code",
   "execution_count": 61,
   "id": "6340cebc-a674-49f6-8c1e-44cba4813095",
   "metadata": {},
   "outputs": [
    {
     "data": {
      "text/plain": [
       "(True, True)"
      ]
     },
     "execution_count": 61,
     "metadata": {},
     "output_type": "execute_result"
    }
   ],
   "source": [
    "p < α, t > 0"
   ]
  },
  {
   "cell_type": "code",
   "execution_count": 62,
   "id": "3aefb940-ca21-49f6-ae75-ce7a0e3b6f83",
   "metadata": {},
   "outputs": [],
   "source": [
    "# reject the null hypothesis"
   ]
  },
  {
   "cell_type": "markdown",
   "id": "026cd251-0bd9-461b-9cc1-4aa0eab67d2b",
   "metadata": {},
   "source": [
    "## CORRELATION"
   ]
  },
  {
   "cell_type": "code",
   "execution_count": null,
   "id": "55740ffc-be70-4b76-ab05-cbf64f74da63",
   "metadata": {},
   "outputs": [],
   "source": []
  },
  {
   "cell_type": "markdown",
   "id": "9a6a41d3-0306-4201-ab42-68e2cca35e5d",
   "metadata": {},
   "source": [
    "## CHI SQUARE"
   ]
  },
  {
   "cell_type": "code",
   "execution_count": null,
   "id": "db3805ed-1199-46fe-903d-77e56ecc4c6e",
   "metadata": {},
   "outputs": [],
   "source": []
  }
 ],
 "metadata": {
  "kernelspec": {
   "display_name": "Python 3 (ipykernel)",
   "language": "python",
   "name": "python3"
  },
  "language_info": {
   "codemirror_mode": {
    "name": "ipython",
    "version": 3
   },
   "file_extension": ".py",
   "mimetype": "text/x-python",
   "name": "python",
   "nbconvert_exporter": "python",
   "pygments_lexer": "ipython3",
   "version": "3.9.12"
  }
 },
 "nbformat": 4,
 "nbformat_minor": 5
}
