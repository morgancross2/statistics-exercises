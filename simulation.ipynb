{
 "cells": [
  {
   "cell_type": "code",
   "execution_count": 1,
   "id": "5ea44d82-5c6b-4615-a10a-19ff1df45a01",
   "metadata": {},
   "outputs": [],
   "source": [
    "import numpy as np\n",
    "import pandas as pd\n",
    "np.random.seed(123)"
   ]
  },
  {
   "cell_type": "markdown",
   "id": "c2894e62-240c-48f2-a050-fc73df478f60",
   "metadata": {
    "tags": []
   },
   "source": [
    "### 1. How likely is it that you roll doubles when rolling two dice?"
   ]
  },
  {
   "cell_type": "code",
   "execution_count": 2,
   "id": "9d413c39-d2dc-4676-a796-29fa476fce86",
   "metadata": {},
   "outputs": [
    {
     "data": {
      "text/plain": [
       "0.16497"
      ]
     },
     "execution_count": 2,
     "metadata": {},
     "output_type": "execute_result"
    }
   ],
   "source": [
    "outcomes = [1,2,3,4,5,6]\n",
    "sims = 100_000\n",
    "trials = 2\n",
    "\n",
    "rolls = pd.DataFrame(np.random.choice(outcomes, (sims, trials)))\n",
    "doubles = rolls[rolls[0] == rolls[1]]\n",
    "len(doubles)/len(rolls)"
   ]
  },
  {
   "cell_type": "markdown",
   "id": "ff38a54f-1528-4ad3-b276-b6ac5c318f4a",
   "metadata": {},
   "source": [
    "### 2. If you flip 8 coins, what is the probability of getting exactly 3 heads? What is the probability of getting more than 3 heads?"
   ]
  },
  {
   "cell_type": "code",
   "execution_count": 3,
   "id": "5b6f3623-8e1e-4df2-ba5e-c989921b4ea6",
   "metadata": {},
   "outputs": [
    {
     "data": {
      "text/plain": [
       "0.21941"
      ]
     },
     "execution_count": 3,
     "metadata": {},
     "output_type": "execute_result"
    }
   ],
   "source": [
    "#heads is 1, tails is 0\n",
    "outcomes = [0, 1]\n",
    "sims = 100_000\n",
    "trials = 8\n",
    "\n",
    "flips = pd.DataFrame(np.random.choice(outcomes, (sims, trials)))\n",
    "heads = flips.sum(axis=1)\n",
    "# Prob of getting exactly 3 heads\n",
    "(heads == 3).mean()"
   ]
  },
  {
   "cell_type": "code",
   "execution_count": 4,
   "id": "c3af9196-66f4-427d-81ae-50239d225647",
   "metadata": {},
   "outputs": [
    {
     "data": {
      "text/plain": [
       "0.63587"
      ]
     },
     "execution_count": 4,
     "metadata": {},
     "output_type": "execute_result"
    }
   ],
   "source": [
    "# Prob of getting more than 3 heads\n",
    "(heads > 3).mean()"
   ]
  },
  {
   "cell_type": "markdown",
   "id": "e8da168a-180f-4d30-bc9e-8dfd86041f3f",
   "metadata": {},
   "source": [
    "### 3. There are approximitely 3 web development cohorts for every 1 data science cohort at Codeup. Assuming that Codeup randomly selects an alumni to put on a billboard, what are the odds that the two billboards I drive past both have data science students on them?"
   ]
  },
  {
   "cell_type": "code",
   "execution_count": 5,
   "id": "8af346c9-ca0a-4e80-9244-b553a22a52d2",
   "metadata": {},
   "outputs": [
    {
     "data": {
      "text/plain": [
       "0.0628"
      ]
     },
     "execution_count": 5,
     "metadata": {},
     "output_type": "execute_result"
    }
   ],
   "source": [
    "webd = .75\n",
    "ds = .25\n",
    "bbs = 2\n",
    "sims = 100_000\n",
    "\n",
    "data = np.random.random((sims, bbs))\n",
    "ds_bbs = (data < ds).sum(axis=1)\n",
    "(ds_bbs == 2).mean()"
   ]
  },
  {
   "cell_type": "markdown",
   "id": "2a4e57d6-8815-430b-a6d6-2db5ab27d3ac",
   "metadata": {},
   "source": [
    "### 4. Codeup students buy, on average, 3 poptart packages with a standard deviation of 1.5 a day from the snack vending machine. If on monday the machine is restocked with 17 poptart packages, how likely is it that I will be able to buy some poptarts on Friday afternoon? (Remember, if you have mean and standard deviation, use the np.random.normal) You'll need to make a judgement call on how to handle some of your values"
   ]
  },
  {
   "cell_type": "code",
   "execution_count": 6,
   "id": "160f4532-a9ad-4a9b-b4c8-29ad6582a1b7",
   "metadata": {},
   "outputs": [
    {
     "data": {
      "text/plain": [
       "0.61672"
      ]
     },
     "execution_count": 6,
     "metadata": {},
     "output_type": "execute_result"
    }
   ],
   "source": [
    "u = 3\n",
    "sd = 1.5\n",
    "stock = 17\n",
    "days = 5\n",
    "sims = 100_000\n",
    "\n",
    "consumed = np.random.normal(3, 1.5, (sims, days))\n",
    "week_consumed = (consumed.sum(axis=1))\n",
    "(week_consumed <= 16).mean()"
   ]
  },
  {
   "cell_type": "markdown",
   "id": "2d2553da-a035-46fe-a7fc-3fd5049af6d4",
   "metadata": {},
   "source": [
    "### 5. Compare Heights\n",
    "##### 5.a Men have an average height of 178 cm and standard deviation of 8cm."
   ]
  },
  {
   "cell_type": "code",
   "execution_count": 7,
   "id": "de0d684e-bf92-4ea4-9d94-503778c10068",
   "metadata": {},
   "outputs": [],
   "source": [
    "u_men = 178\n",
    "sd_men = 8"
   ]
  },
  {
   "cell_type": "markdown",
   "id": "ec0fec20-c58c-448d-aeee-5df4225fb5be",
   "metadata": {},
   "source": [
    "##### 5.b Women have a mean of 170, sd = 6cm."
   ]
  },
  {
   "cell_type": "code",
   "execution_count": 8,
   "id": "a3bb6712-7656-4b8a-8ee2-b8df6793e2c5",
   "metadata": {},
   "outputs": [],
   "source": [
    "u_women = 170\n",
    "sd_women = 6"
   ]
  },
  {
   "cell_type": "markdown",
   "id": "2a15bb94-6aef-4f74-bcb1-554f70774e5c",
   "metadata": {},
   "source": [
    "##### 5.c Since you have means and standard deviations, you can use np.random.normal to generate observations."
   ]
  },
  {
   "cell_type": "code",
   "execution_count": 9,
   "id": "2614f16a-6769-4822-9003-8e6f29e8da82",
   "metadata": {},
   "outputs": [],
   "source": [
    "sims = 100_000\n",
    "men_obs = np.random.normal(u_men, sd_men, sims)\n",
    "women_obs = np.random.normal(u_women, sd_women, sims)"
   ]
  },
  {
   "cell_type": "markdown",
   "id": "cee855f3-8372-4a26-8366-1ef65c05961d",
   "metadata": {},
   "source": [
    "##### 5.d If a man and woman are chosen at random, what is the likelihood the woman is taller than the man?"
   ]
  },
  {
   "cell_type": "code",
   "execution_count": 10,
   "id": "20ef2d4b-b09d-42d5-a577-34774825bc43",
   "metadata": {},
   "outputs": [
    {
     "data": {
      "text/plain": [
       "0.20925"
      ]
     },
     "execution_count": 10,
     "metadata": {},
     "output_type": "execute_result"
    }
   ],
   "source": [
    "(men_obs < women_obs).mean()"
   ]
  },
  {
   "cell_type": "markdown",
   "id": "ab176cec-c0c9-441b-b81a-801b3030102e",
   "metadata": {},
   "source": [
    "### 6.a When installing anaconda on a student's computer, there's a 1 in 250 chance that the download is corrupted and the installation fails. What are the odds that after having 50 students download anaconda, no one has an installation issue? "
   ]
  },
  {
   "cell_type": "code",
   "execution_count": 11,
   "id": "50771cda-1069-405d-9151-8970d28d255b",
   "metadata": {},
   "outputs": [
    {
     "data": {
      "text/plain": [
       "0.81928"
      ]
     },
     "execution_count": 11,
     "metadata": {},
     "output_type": "execute_result"
    }
   ],
   "source": [
    "sims = 100_000\n",
    "students = 50\n",
    "corrupted = 1/250\n",
    "\n",
    "installs = np.random.random((sims, students))\n",
    "fails = (installs < corrupted).sum(axis=1)\n",
    "(fails == 0).mean()"
   ]
  },
  {
   "cell_type": "markdown",
   "id": "85aaeb59-8b49-4f79-b284-7035f12acc2a",
   "metadata": {},
   "source": [
    "##### 6.b 100 students?"
   ]
  },
  {
   "cell_type": "code",
   "execution_count": 12,
   "id": "432574c4-92ca-4e8f-9499-0b07aef3d388",
   "metadata": {},
   "outputs": [
    {
     "data": {
      "text/plain": [
       "0.66675"
      ]
     },
     "execution_count": 12,
     "metadata": {},
     "output_type": "execute_result"
    }
   ],
   "source": [
    "sims = 100_000\n",
    "students = 100\n",
    "corrupted = 1/250\n",
    "\n",
    "installs = np.random.random((sims, students))\n",
    "fails = (installs < corrupted).sum(axis=1)\n",
    "(fails == 0).mean()"
   ]
  },
  {
   "cell_type": "markdown",
   "id": "a77054c8-ff97-491b-8c0f-be5bf52458be",
   "metadata": {},
   "source": [
    "##### 6.c What is the probability that we observe an installation issue within the first 150 students that download anaconda?"
   ]
  },
  {
   "cell_type": "code",
   "execution_count": 13,
   "id": "c79fc988-bb07-41d7-9493-d77733b3d221",
   "metadata": {},
   "outputs": [
    {
     "data": {
      "text/plain": [
       "0.45231"
      ]
     },
     "execution_count": 13,
     "metadata": {},
     "output_type": "execute_result"
    }
   ],
   "source": [
    "sims = 100_000\n",
    "students = 150\n",
    "corrupted = 1/250\n",
    "\n",
    "installs = np.random.random((sims, students))\n",
    "fails = (installs < corrupted).sum(axis=1)\n",
    "(fails > 0).mean()"
   ]
  },
  {
   "cell_type": "markdown",
   "id": "491fa6c5-94da-4d02-8d67-d03dd2746cdb",
   "metadata": {},
   "source": [
    "##### 6.d How likely is it that 450 students all download anaconda without an issue?"
   ]
  },
  {
   "cell_type": "code",
   "execution_count": 14,
   "id": "56338aec-e127-4410-939f-23be49e56022",
   "metadata": {},
   "outputs": [
    {
     "data": {
      "text/plain": [
       "0.16453"
      ]
     },
     "execution_count": 14,
     "metadata": {},
     "output_type": "execute_result"
    }
   ],
   "source": [
    "sims = 100_000\n",
    "students = 450\n",
    "corrupted = 1/250\n",
    "\n",
    "installs = np.random.random((sims, students))\n",
    "fails = (installs < corrupted).sum(axis=1)\n",
    "(fails == 0).mean()"
   ]
  },
  {
   "cell_type": "markdown",
   "id": "6d900be3-0146-4008-9fa4-e45019a37cce",
   "metadata": {},
   "source": [
    "### 7. There's a 70% chance on any given day that there will be at least one food truck at Travis Park. However, you haven't seen a food truck there in 3 days. How unlikely is this?"
   ]
  },
  {
   "cell_type": "code",
   "execution_count": 15,
   "id": "89ede9a7-4a49-40e2-aaf4-b5c609dad6c6",
   "metadata": {},
   "outputs": [
    {
     "data": {
      "text/plain": [
       "0.02746"
      ]
     },
     "execution_count": 15,
     "metadata": {},
     "output_type": "execute_result"
    }
   ],
   "source": [
    "sims = 100_000\n",
    "truck_show = .7\n",
    "days = 3\n",
    "\n",
    "data = np.random.random((sims, days))\n",
    "truck_no_show = (data > truck_show).sum(axis=1)\n",
    "(truck_no_show == 3).mean()"
   ]
  },
  {
   "cell_type": "markdown",
   "id": "e442dce4-4b1b-4125-a5b6-8c30da2d68a7",
   "metadata": {},
   "source": [
    "##### 7.b How likely is it that a food truck will show up sometime this week?"
   ]
  },
  {
   "cell_type": "code",
   "execution_count": 16,
   "id": "4bb78c1d-336f-4d95-810c-1d1c04d69111",
   "metadata": {},
   "outputs": [
    {
     "data": {
      "text/plain": [
       "0.99982"
      ]
     },
     "execution_count": 16,
     "metadata": {},
     "output_type": "execute_result"
    }
   ],
   "source": [
    "sims = 100_000\n",
    "truck_show = .7\n",
    "days = 7\n",
    "\n",
    "data = np.random.random((sims, days))\n",
    "truck_no_show = (data > truck_show).sum(axis=1)\n",
    "(truck_no_show <= 6).mean()"
   ]
  },
  {
   "cell_type": "markdown",
   "id": "13b4423a-49fb-4c3a-8847-3291762b6696",
   "metadata": {},
   "source": [
    "### 8. If 23 people are in the same room, what are the odds that two of them share a birthday? What if it's 20 people? 40?"
   ]
  },
  {
   "cell_type": "code",
   "execution_count": 17,
   "id": "696d95be-360e-41c6-83e8-ef8a8cfbdbe9",
   "metadata": {},
   "outputs": [
    {
     "ename": "SpecificationError",
     "evalue": "nested renamer is not supported",
     "output_type": "error",
     "traceback": [
      "\u001b[0;31m---------------------------------------------------------------------------\u001b[0m",
      "\u001b[0;31mSpecificationError\u001b[0m                        Traceback (most recent call last)",
      "Input \u001b[0;32mIn [17]\u001b[0m, in \u001b[0;36m<cell line: 6>\u001b[0;34m()\u001b[0m\n\u001b[1;32m      3\u001b[0m people \u001b[38;5;241m=\u001b[39m \u001b[38;5;241m23\u001b[39m\n\u001b[1;32m      5\u001b[0m birthdays \u001b[38;5;241m=\u001b[39m pd\u001b[38;5;241m.\u001b[39mDataFrame(np\u001b[38;5;241m.\u001b[39mrandom\u001b[38;5;241m.\u001b[39mchoice(days, (sims, people)))\n\u001b[0;32m----> 6\u001b[0m doubs \u001b[38;5;241m=\u001b[39m \u001b[43mbirthdays\u001b[49m\u001b[38;5;241;43m.\u001b[39;49m\u001b[43mapply\u001b[49m\u001b[43m(\u001b[49m\u001b[43mdoubles\u001b[49m\u001b[43m,\u001b[49m\u001b[43m \u001b[49m\u001b[43maxis\u001b[49m\u001b[38;5;241;43m=\u001b[39;49m\u001b[38;5;241;43m1\u001b[39;49m\u001b[43m)\u001b[49m\n\u001b[1;32m      7\u001b[0m (doubs \u001b[38;5;241m==\u001b[39m \u001b[38;5;28;01mTrue\u001b[39;00m)\u001b[38;5;241m.\u001b[39mmean()\n",
      "File \u001b[0;32m/opt/homebrew/anaconda3/lib/python3.9/site-packages/pandas/core/frame.py:8839\u001b[0m, in \u001b[0;36mDataFrame.apply\u001b[0;34m(self, func, axis, raw, result_type, args, **kwargs)\u001b[0m\n\u001b[1;32m   8828\u001b[0m \u001b[38;5;28;01mfrom\u001b[39;00m \u001b[38;5;21;01mpandas\u001b[39;00m\u001b[38;5;21;01m.\u001b[39;00m\u001b[38;5;21;01mcore\u001b[39;00m\u001b[38;5;21;01m.\u001b[39;00m\u001b[38;5;21;01mapply\u001b[39;00m \u001b[38;5;28;01mimport\u001b[39;00m frame_apply\n\u001b[1;32m   8830\u001b[0m op \u001b[38;5;241m=\u001b[39m frame_apply(\n\u001b[1;32m   8831\u001b[0m     \u001b[38;5;28mself\u001b[39m,\n\u001b[1;32m   8832\u001b[0m     func\u001b[38;5;241m=\u001b[39mfunc,\n\u001b[0;32m   (...)\u001b[0m\n\u001b[1;32m   8837\u001b[0m     kwargs\u001b[38;5;241m=\u001b[39mkwargs,\n\u001b[1;32m   8838\u001b[0m )\n\u001b[0;32m-> 8839\u001b[0m \u001b[38;5;28;01mreturn\u001b[39;00m \u001b[43mop\u001b[49m\u001b[38;5;241;43m.\u001b[39;49m\u001b[43mapply\u001b[49m\u001b[43m(\u001b[49m\u001b[43m)\u001b[49m\u001b[38;5;241m.\u001b[39m__finalize__(\u001b[38;5;28mself\u001b[39m, method\u001b[38;5;241m=\u001b[39m\u001b[38;5;124m\"\u001b[39m\u001b[38;5;124mapply\u001b[39m\u001b[38;5;124m\"\u001b[39m)\n",
      "File \u001b[0;32m/opt/homebrew/anaconda3/lib/python3.9/site-packages/pandas/core/apply.py:698\u001b[0m, in \u001b[0;36mFrameApply.apply\u001b[0;34m(self)\u001b[0m\n\u001b[1;32m    696\u001b[0m \u001b[38;5;66;03m# dispatch to agg\u001b[39;00m\n\u001b[1;32m    697\u001b[0m \u001b[38;5;28;01mif\u001b[39;00m is_list_like(\u001b[38;5;28mself\u001b[39m\u001b[38;5;241m.\u001b[39mf):\n\u001b[0;32m--> 698\u001b[0m     \u001b[38;5;28;01mreturn\u001b[39;00m \u001b[38;5;28;43mself\u001b[39;49m\u001b[38;5;241;43m.\u001b[39;49m\u001b[43mapply_multiple\u001b[49m\u001b[43m(\u001b[49m\u001b[43m)\u001b[49m\n\u001b[1;32m    700\u001b[0m \u001b[38;5;66;03m# all empty\u001b[39;00m\n\u001b[1;32m    701\u001b[0m \u001b[38;5;28;01mif\u001b[39;00m \u001b[38;5;28mlen\u001b[39m(\u001b[38;5;28mself\u001b[39m\u001b[38;5;241m.\u001b[39mcolumns) \u001b[38;5;241m==\u001b[39m \u001b[38;5;241m0\u001b[39m \u001b[38;5;129;01mand\u001b[39;00m \u001b[38;5;28mlen\u001b[39m(\u001b[38;5;28mself\u001b[39m\u001b[38;5;241m.\u001b[39mindex) \u001b[38;5;241m==\u001b[39m \u001b[38;5;241m0\u001b[39m:\n",
      "File \u001b[0;32m/opt/homebrew/anaconda3/lib/python3.9/site-packages/pandas/core/apply.py:557\u001b[0m, in \u001b[0;36mApply.apply_multiple\u001b[0;34m(self)\u001b[0m\n\u001b[1;32m    548\u001b[0m \u001b[38;5;28;01mdef\u001b[39;00m \u001b[38;5;21mapply_multiple\u001b[39m(\u001b[38;5;28mself\u001b[39m) \u001b[38;5;241m-\u001b[39m\u001b[38;5;241m>\u001b[39m DataFrame \u001b[38;5;241m|\u001b[39m Series:\n\u001b[1;32m    549\u001b[0m     \u001b[38;5;124;03m\"\"\"\u001b[39;00m\n\u001b[1;32m    550\u001b[0m \u001b[38;5;124;03m    Compute apply in case of a list-like or dict-like.\u001b[39;00m\n\u001b[1;32m    551\u001b[0m \n\u001b[0;32m   (...)\u001b[0m\n\u001b[1;32m    555\u001b[0m \u001b[38;5;124;03m        Result when self.f is a list-like or dict-like, None otherwise.\u001b[39;00m\n\u001b[1;32m    556\u001b[0m \u001b[38;5;124;03m    \"\"\"\u001b[39;00m\n\u001b[0;32m--> 557\u001b[0m     \u001b[38;5;28;01mreturn\u001b[39;00m \u001b[38;5;28;43mself\u001b[39;49m\u001b[38;5;241;43m.\u001b[39;49m\u001b[43mobj\u001b[49m\u001b[38;5;241;43m.\u001b[39;49m\u001b[43maggregate\u001b[49m\u001b[43m(\u001b[49m\u001b[38;5;28;43mself\u001b[39;49m\u001b[38;5;241;43m.\u001b[39;49m\u001b[43mf\u001b[49m\u001b[43m,\u001b[49m\u001b[43m \u001b[49m\u001b[38;5;28;43mself\u001b[39;49m\u001b[38;5;241;43m.\u001b[39;49m\u001b[43maxis\u001b[49m\u001b[43m,\u001b[49m\u001b[43m \u001b[49m\u001b[38;5;241;43m*\u001b[39;49m\u001b[38;5;28;43mself\u001b[39;49m\u001b[38;5;241;43m.\u001b[39;49m\u001b[43margs\u001b[49m\u001b[43m,\u001b[49m\u001b[43m \u001b[49m\u001b[38;5;241;43m*\u001b[39;49m\u001b[38;5;241;43m*\u001b[39;49m\u001b[38;5;28;43mself\u001b[39;49m\u001b[38;5;241;43m.\u001b[39;49m\u001b[43mkwargs\u001b[49m\u001b[43m)\u001b[49m\n",
      "File \u001b[0;32m/opt/homebrew/anaconda3/lib/python3.9/site-packages/pandas/core/frame.py:8649\u001b[0m, in \u001b[0;36mDataFrame.aggregate\u001b[0;34m(self, func, axis, *args, **kwargs)\u001b[0m\n\u001b[1;32m   8646\u001b[0m relabeling, func, columns, order \u001b[38;5;241m=\u001b[39m reconstruct_func(func, \u001b[38;5;241m*\u001b[39m\u001b[38;5;241m*\u001b[39mkwargs)\n\u001b[1;32m   8648\u001b[0m op \u001b[38;5;241m=\u001b[39m frame_apply(\u001b[38;5;28mself\u001b[39m, func\u001b[38;5;241m=\u001b[39mfunc, axis\u001b[38;5;241m=\u001b[39maxis, args\u001b[38;5;241m=\u001b[39margs, kwargs\u001b[38;5;241m=\u001b[39mkwargs)\n\u001b[0;32m-> 8649\u001b[0m result \u001b[38;5;241m=\u001b[39m \u001b[43mop\u001b[49m\u001b[38;5;241;43m.\u001b[39;49m\u001b[43magg\u001b[49m\u001b[43m(\u001b[49m\u001b[43m)\u001b[49m\n\u001b[1;32m   8651\u001b[0m \u001b[38;5;28;01mif\u001b[39;00m relabeling:\n\u001b[1;32m   8652\u001b[0m     \u001b[38;5;66;03m# This is to keep the order to columns occurrence unchanged, and also\u001b[39;00m\n\u001b[1;32m   8653\u001b[0m     \u001b[38;5;66;03m# keep the order of new columns occurrence unchanged\u001b[39;00m\n\u001b[1;32m   8654\u001b[0m \n\u001b[1;32m   8655\u001b[0m     \u001b[38;5;66;03m# For the return values of reconstruct_func, if relabeling is\u001b[39;00m\n\u001b[1;32m   8656\u001b[0m     \u001b[38;5;66;03m# False, columns and order will be None.\u001b[39;00m\n\u001b[1;32m   8657\u001b[0m     \u001b[38;5;28;01massert\u001b[39;00m columns \u001b[38;5;129;01mis\u001b[39;00m \u001b[38;5;129;01mnot\u001b[39;00m \u001b[38;5;28;01mNone\u001b[39;00m\n",
      "File \u001b[0;32m/opt/homebrew/anaconda3/lib/python3.9/site-packages/pandas/core/apply.py:739\u001b[0m, in \u001b[0;36mFrameApply.agg\u001b[0;34m(self)\u001b[0m\n\u001b[1;32m    737\u001b[0m result \u001b[38;5;241m=\u001b[39m \u001b[38;5;28;01mNone\u001b[39;00m\n\u001b[1;32m    738\u001b[0m \u001b[38;5;28;01mtry\u001b[39;00m:\n\u001b[0;32m--> 739\u001b[0m     result \u001b[38;5;241m=\u001b[39m \u001b[38;5;28;43msuper\u001b[39;49m\u001b[43m(\u001b[49m\u001b[43m)\u001b[49m\u001b[38;5;241;43m.\u001b[39;49m\u001b[43magg\u001b[49m\u001b[43m(\u001b[49m\u001b[43m)\u001b[49m\n\u001b[1;32m    740\u001b[0m \u001b[38;5;28;01mexcept\u001b[39;00m \u001b[38;5;167;01mTypeError\u001b[39;00m \u001b[38;5;28;01mas\u001b[39;00m err:\n\u001b[1;32m    741\u001b[0m     exc \u001b[38;5;241m=\u001b[39m \u001b[38;5;167;01mTypeError\u001b[39;00m(\n\u001b[1;32m    742\u001b[0m         \u001b[38;5;124m\"\u001b[39m\u001b[38;5;124mDataFrame constructor called with \u001b[39m\u001b[38;5;124m\"\u001b[39m\n\u001b[1;32m    743\u001b[0m         \u001b[38;5;124mf\u001b[39m\u001b[38;5;124m\"\u001b[39m\u001b[38;5;124mincompatible data and dtype: \u001b[39m\u001b[38;5;132;01m{\u001b[39;00merr\u001b[38;5;132;01m}\u001b[39;00m\u001b[38;5;124m\"\u001b[39m\n\u001b[1;32m    744\u001b[0m     )\n",
      "File \u001b[0;32m/opt/homebrew/anaconda3/lib/python3.9/site-packages/pandas/core/apply.py:168\u001b[0m, in \u001b[0;36mApply.agg\u001b[0;34m(self)\u001b[0m\n\u001b[1;32m    165\u001b[0m     \u001b[38;5;28;01mreturn\u001b[39;00m \u001b[38;5;28mself\u001b[39m\u001b[38;5;241m.\u001b[39mapply_str()\n\u001b[1;32m    167\u001b[0m \u001b[38;5;28;01mif\u001b[39;00m is_dict_like(arg):\n\u001b[0;32m--> 168\u001b[0m     \u001b[38;5;28;01mreturn\u001b[39;00m \u001b[38;5;28;43mself\u001b[39;49m\u001b[38;5;241;43m.\u001b[39;49m\u001b[43magg_dict_like\u001b[49m\u001b[43m(\u001b[49m\u001b[43m)\u001b[49m\n\u001b[1;32m    169\u001b[0m \u001b[38;5;28;01melif\u001b[39;00m is_list_like(arg):\n\u001b[1;32m    170\u001b[0m     \u001b[38;5;66;03m# we require a list, but not a 'str'\u001b[39;00m\n\u001b[1;32m    171\u001b[0m     \u001b[38;5;28;01mreturn\u001b[39;00m \u001b[38;5;28mself\u001b[39m\u001b[38;5;241m.\u001b[39magg_list_like()\n",
      "File \u001b[0;32m/opt/homebrew/anaconda3/lib/python3.9/site-packages/pandas/core/apply.py:467\u001b[0m, in \u001b[0;36mApply.agg_dict_like\u001b[0;34m(self)\u001b[0m\n\u001b[1;32m    464\u001b[0m     selected_obj \u001b[38;5;241m=\u001b[39m obj\u001b[38;5;241m.\u001b[39m_selected_obj\n\u001b[1;32m    465\u001b[0m     selection \u001b[38;5;241m=\u001b[39m obj\u001b[38;5;241m.\u001b[39m_selection\n\u001b[0;32m--> 467\u001b[0m arg \u001b[38;5;241m=\u001b[39m \u001b[38;5;28;43mself\u001b[39;49m\u001b[38;5;241;43m.\u001b[39;49m\u001b[43mnormalize_dictlike_arg\u001b[49m\u001b[43m(\u001b[49m\u001b[38;5;124;43m\"\u001b[39;49m\u001b[38;5;124;43magg\u001b[39;49m\u001b[38;5;124;43m\"\u001b[39;49m\u001b[43m,\u001b[49m\u001b[43m \u001b[49m\u001b[43mselected_obj\u001b[49m\u001b[43m,\u001b[49m\u001b[43m \u001b[49m\u001b[43marg\u001b[49m\u001b[43m)\u001b[49m\n\u001b[1;32m    469\u001b[0m \u001b[38;5;28;01mif\u001b[39;00m selected_obj\u001b[38;5;241m.\u001b[39mndim \u001b[38;5;241m==\u001b[39m \u001b[38;5;241m1\u001b[39m:\n\u001b[1;32m    470\u001b[0m     \u001b[38;5;66;03m# key only used for output\u001b[39;00m\n\u001b[1;32m    471\u001b[0m     colg \u001b[38;5;241m=\u001b[39m obj\u001b[38;5;241m.\u001b[39m_gotitem(selection, ndim\u001b[38;5;241m=\u001b[39m\u001b[38;5;241m1\u001b[39m)\n",
      "File \u001b[0;32m/opt/homebrew/anaconda3/lib/python3.9/site-packages/pandas/core/apply.py:578\u001b[0m, in \u001b[0;36mApply.normalize_dictlike_arg\u001b[0;34m(self, how, obj, func)\u001b[0m\n\u001b[1;32m    571\u001b[0m \u001b[38;5;66;03m# Can't use func.values(); wouldn't work for a Series\u001b[39;00m\n\u001b[1;32m    572\u001b[0m \u001b[38;5;28;01mif\u001b[39;00m (\n\u001b[1;32m    573\u001b[0m     how \u001b[38;5;241m==\u001b[39m \u001b[38;5;124m\"\u001b[39m\u001b[38;5;124magg\u001b[39m\u001b[38;5;124m\"\u001b[39m\n\u001b[1;32m    574\u001b[0m     \u001b[38;5;129;01mand\u001b[39;00m \u001b[38;5;28misinstance\u001b[39m(obj, ABCSeries)\n\u001b[1;32m    575\u001b[0m     \u001b[38;5;129;01mand\u001b[39;00m \u001b[38;5;28many\u001b[39m(is_list_like(v) \u001b[38;5;28;01mfor\u001b[39;00m _, v \u001b[38;5;129;01min\u001b[39;00m func\u001b[38;5;241m.\u001b[39mitems())\n\u001b[1;32m    576\u001b[0m ) \u001b[38;5;129;01mor\u001b[39;00m (\u001b[38;5;28many\u001b[39m(is_dict_like(v) \u001b[38;5;28;01mfor\u001b[39;00m _, v \u001b[38;5;129;01min\u001b[39;00m func\u001b[38;5;241m.\u001b[39mitems())):\n\u001b[1;32m    577\u001b[0m     \u001b[38;5;66;03m# GH 15931 - deprecation of renaming keys\u001b[39;00m\n\u001b[0;32m--> 578\u001b[0m     \u001b[38;5;28;01mraise\u001b[39;00m SpecificationError(\u001b[38;5;124m\"\u001b[39m\u001b[38;5;124mnested renamer is not supported\u001b[39m\u001b[38;5;124m\"\u001b[39m)\n\u001b[1;32m    580\u001b[0m \u001b[38;5;28;01mif\u001b[39;00m obj\u001b[38;5;241m.\u001b[39mndim \u001b[38;5;241m!=\u001b[39m \u001b[38;5;241m1\u001b[39m:\n\u001b[1;32m    581\u001b[0m     \u001b[38;5;66;03m# Check for missing columns on a frame\u001b[39;00m\n\u001b[1;32m    582\u001b[0m     cols \u001b[38;5;241m=\u001b[39m \u001b[38;5;28mset\u001b[39m(func\u001b[38;5;241m.\u001b[39mkeys()) \u001b[38;5;241m-\u001b[39m \u001b[38;5;28mset\u001b[39m(obj\u001b[38;5;241m.\u001b[39mcolumns)\n",
      "\u001b[0;31mSpecificationError\u001b[0m: nested renamer is not supported"
     ]
    }
   ],
   "source": [
    "sims = 100_000\n",
    "days = range(365)\n",
    "people = 23\n",
    "\n",
    "birthdays = pd.DataFrame(np.random.choice(days, (sims, people)))\n",
    "doubs = birthdays.apply(doubles, axis=1)\n",
    "(doubs == True).mean()"
   ]
  },
  {
   "cell_type": "code",
   "execution_count": null,
   "id": "51b5d852-de9c-4cf5-ad1c-41d3ba1a72dd",
   "metadata": {},
   "outputs": [],
   "source": [
    "def doubles(b):\n",
    "    if len(b) > len(b.unique()):\n",
    "        return True\n",
    "    return False"
   ]
  },
  {
   "cell_type": "code",
   "execution_count": null,
   "id": "62c2d83a-21d4-41fa-be20-c59fed975fe4",
   "metadata": {},
   "outputs": [],
   "source": [
    "#20 people\n",
    "sims = 100_000\n",
    "days = range(365)\n",
    "people = 20\n",
    "\n",
    "birthdays = pd.DataFrame(np.random.choice(days, (sims, people)))\n",
    "doubs = birthdays.apply(doubles, axis=1)\n",
    "(doubs == True).mean()"
   ]
  },
  {
   "cell_type": "code",
   "execution_count": null,
   "id": "c38b5834-c477-4795-85ba-2e90fbb2e062",
   "metadata": {},
   "outputs": [],
   "source": [
    "#40 people\n",
    "sims = 100_000\n",
    "days = range(365)\n",
    "people = 40\n",
    "\n",
    "birthdays = pd.DataFrame(np.random.choice(days, (sims, people)))\n",
    "doubs = birthdays.apply(doubles, axis=1)\n",
    "(doubs == True).mean()"
   ]
  },
  {
   "cell_type": "code",
   "execution_count": null,
   "id": "77f2957a-a1f9-43ff-a641-3becb6cf5f70",
   "metadata": {},
   "outputs": [],
   "source": [
    "#another way\n",
    "sims = 100_000\n",
    "days = range(365)\n",
    "people = 40\n",
    "\n",
    "birthdays = pd.DataFrame(np.random.choice(days, (sims, people)))\n",
    "doubs = birthdays.nunique(axis=1) < people\n",
    "(doubs == True).mean()"
   ]
  },
  {
   "cell_type": "markdown",
   "id": "525cf1b9-a8f6-412a-9649-657f079aaac1",
   "metadata": {
    "tags": []
   },
   "source": [
    "# BONUS: Mage Dual"
   ]
  },
  {
   "cell_type": "markdown",
   "id": "a8bcb660-eba8-47c8-b9aa-477a948cf0fc",
   "metadata": {
    "jp-MarkdownHeadingCollapsed": true,
    "tags": []
   },
   "source": [
    "##### Let's use what we've learned to play a mage duel!\n",
    "##### Imagine your wizard has 6d4 health points and you have spells that do 6d4 damage. \"6d4\" means rolling six 4-sided dice and summing the result.\n",
    "##### Your opposing mage has 4d6 health points and spells that do 4d6. \"4d6\" means rolling four six-sided dice and summing the result."
   ]
  },
  {
   "cell_type": "markdown",
   "id": "fbf3eeaa-9b32-482d-b336-9051d04a75c2",
   "metadata": {
    "tags": []
   },
   "source": [
    "#### Exercises\n",
    "##### Simulate mage duels to answer who is the more powerful mage?\n",
    "##### Before running simulations, do you have a hypothesis of which mage will win? Do you have a hunch? Write it down. This is your first exercise."
   ]
  },
  {
   "cell_type": "code",
   "execution_count": 18,
   "id": "b7b96f17-3a6d-4255-ab66-689bab9cffec",
   "metadata": {},
   "outputs": [],
   "source": [
    "# 6d4"
   ]
  },
  {
   "cell_type": "markdown",
   "id": "83807c19-8d91-4a17-8d52-1bda2c5de121",
   "metadata": {},
   "source": [
    "##### Simulate 10 mage duels. Is there a clear winner? Run that 10 duel simulation again. Was the answer similar?"
   ]
  },
  {
   "cell_type": "code",
   "execution_count": 19,
   "id": "0adcba32-434b-464d-af36-9b169c95ce93",
   "metadata": {},
   "outputs": [
    {
     "data": {
      "text/plain": [
       "0.8"
      ]
     },
     "execution_count": 19,
     "metadata": {},
     "output_type": "execute_result"
    }
   ],
   "source": [
    "duals = 10\n",
    "d4_outcomes = [1,2,3,4]\n",
    "d4_throw = 6\n",
    "\n",
    "d6_outcomes = [1,2,3,4,5,6]\n",
    "d6_throw = 4\n",
    "\n",
    "d4_damage = np.random.choice(d4_outcomes, (duals, d4_throw))\n",
    "d6_damage = np.random.choice(d6_outcomes, (duals, d6_throw))\n",
    "\n",
    "d4_wins = d4_damage.sum(axis=1) > d6_damage.sum(axis=1)\n",
    "(d4_wins).mean()"
   ]
  },
  {
   "cell_type": "markdown",
   "id": "4f8b65e5-6427-4129-9a55-f1c5ebe4a61f",
   "metadata": {},
   "source": [
    "##### Do the results change much at 100 duels?"
   ]
  },
  {
   "cell_type": "code",
   "execution_count": 20,
   "id": "718f7fa9-bbea-4e74-a8d5-8dc23bcc6b71",
   "metadata": {},
   "outputs": [
    {
     "data": {
      "text/plain": [
       "0.58"
      ]
     },
     "execution_count": 20,
     "metadata": {},
     "output_type": "execute_result"
    }
   ],
   "source": [
    "duals = 100\n",
    "d4_outcomes = [1,2,3,4]\n",
    "d4_throw = 6\n",
    "\n",
    "d6_outcomes = [1,2,3,4,5,6]\n",
    "d6_throw = 4\n",
    "\n",
    "d4_damage = np.random.choice(d4_outcomes, (duals, d4_throw))\n",
    "d6_damage = np.random.choice(d6_outcomes, (duals, d6_throw))\n",
    "\n",
    "d4_wins = d4_damage.sum(axis=1) > d6_damage.sum(axis=1)\n",
    "(d4_wins).mean()"
   ]
  },
  {
   "cell_type": "markdown",
   "id": "bb83b872-4d1c-47d9-ac9f-a227608871b4",
   "metadata": {},
   "source": [
    "##### Now, simulate 10,000 mage duels. Is there a clear winner?"
   ]
  },
  {
   "cell_type": "code",
   "execution_count": 21,
   "id": "b6e5caa1-a2b1-42ce-949a-99c4bf66282d",
   "metadata": {},
   "outputs": [
    {
     "data": {
      "text/plain": [
       "0.5367"
      ]
     },
     "execution_count": 21,
     "metadata": {},
     "output_type": "execute_result"
    }
   ],
   "source": [
    "duals = 10_000\n",
    "d4_outcomes = [1,2,3,4]\n",
    "d4_throw = 6\n",
    "\n",
    "d6_outcomes = [1,2,3,4,5,6]\n",
    "d6_throw = 4\n",
    "\n",
    "d4_damage = np.random.choice(d4_outcomes, (duals, d4_throw))\n",
    "d6_damage = np.random.choice(d6_outcomes, (duals, d6_throw))\n",
    "\n",
    "d4_wins = d4_damage.sum(axis=1) > d6_damage.sum(axis=1)\n",
    "(d4_wins).mean()"
   ]
  },
  {
   "cell_type": "code",
   "execution_count": 22,
   "id": "d83c5c24-167c-4d9d-b09c-d0e0b02065bc",
   "metadata": {},
   "outputs": [],
   "source": [
    "#6d4 is the clear winner, winning 55% of duals"
   ]
  },
  {
   "cell_type": "markdown",
   "id": "2d609dee-1089-42b3-b1b1-685452ad189c",
   "metadata": {},
   "source": [
    "# BONUS: Chuck a Luck"
   ]
  },
  {
   "cell_type": "markdown",
   "id": "87d09031-ced0-4967-9b1c-ffe8c710797e",
   "metadata": {},
   "source": [
    "#### Rules:\n",
    "\n",
    "##### The player pays $1 to play and picks a number.\n",
    "\n",
    "##### The House rolls 3 dice at once.\n",
    "\n",
    "##### Payouts:\n",
    "\n",
    "#####  - 3 if all three dice match the chosen number\n",
    "#####  - 2 if exactly two dice match the chosen number\n",
    "#####  - 1 is exactly one of the dice matches the chosen number\n",
    "#####  - If none of the dice match the player's chosen number, then the House keeps the $1."
   ]
  },
  {
   "cell_type": "markdown",
   "id": "61bed052-2197-43e4-bfc9-885668c9148d",
   "metadata": {
    "tags": []
   },
   "source": [
    "#### Exercises:"
   ]
  },
  {
   "cell_type": "code",
   "execution_count": 23,
   "id": "1454f0a8-f3b2-49c6-a073-045c4a9a1dc7",
   "metadata": {},
   "outputs": [],
   "source": [
    "import matplotlib.pyplot as plt\n",
    "import seaborn as sns"
   ]
  },
  {
   "cell_type": "code",
   "execution_count": 24,
   "id": "06dc17b0-0184-4e74-8097-dfb6f78737f3",
   "metadata": {},
   "outputs": [],
   "source": [
    "sims = 1_000_000\n",
    "throws = 3\n",
    "outcomes = [1,2,3,4,5,6]\n",
    "num = np.random.choice(outcomes)\n",
    "\n",
    "trials = np.random.choice(outcomes, (sims, throws))\n",
    "win = (trials == num).sum(axis=1)\n",
    "payout = win - 1"
   ]
  },
  {
   "cell_type": "markdown",
   "id": "c1cd51fc-1a29-4f6e-b816-c8ebb9ae0444",
   "metadata": {},
   "source": [
    "##### What are your chances of getting an outcome payout of 2? (where we earned 3 on the $1 ante)"
   ]
  },
  {
   "cell_type": "code",
   "execution_count": 25,
   "id": "b74e045f-c31a-4625-a3a8-301bdecd6adc",
   "metadata": {},
   "outputs": [
    {
     "data": {
      "text/plain": [
       "0.00461"
      ]
     },
     "execution_count": 25,
     "metadata": {},
     "output_type": "execute_result"
    }
   ],
   "source": [
    "(payout == 2).mean()"
   ]
  },
  {
   "cell_type": "markdown",
   "id": "1a1e5214-8070-45f1-a577-65ba39c68e78",
   "metadata": {},
   "source": [
    "##### What are your chances of getting an payout of $1?"
   ]
  },
  {
   "cell_type": "code",
   "execution_count": 26,
   "id": "50b854f5-cdb6-45f6-b999-8c20bbe0b28e",
   "metadata": {},
   "outputs": [
    {
     "data": {
      "text/plain": [
       "0.068992"
      ]
     },
     "execution_count": 26,
     "metadata": {},
     "output_type": "execute_result"
    }
   ],
   "source": [
    "(payout == 1).mean()"
   ]
  },
  {
   "cell_type": "markdown",
   "id": "49a43b84-ffdc-4c72-97df-2ccb456b29ad",
   "metadata": {},
   "source": [
    "##### What are your chances of getting a payout of 0 where you ante 1 and win 1?"
   ]
  },
  {
   "cell_type": "code",
   "execution_count": 27,
   "id": "fa3e27a2-9efe-4f2b-8a68-f898b537b51d",
   "metadata": {},
   "outputs": [
    {
     "data": {
      "text/plain": [
       "0.347765"
      ]
     },
     "execution_count": 27,
     "metadata": {},
     "output_type": "execute_result"
    }
   ],
   "source": [
    "(payout == 0).mean()"
   ]
  },
  {
   "cell_type": "markdown",
   "id": "9d9bc470-654d-48d9-891c-298b42a00f6f",
   "metadata": {},
   "source": [
    "##### What are your chances of getting a payout of -$1 where you ante up, but don't win anything?"
   ]
  },
  {
   "cell_type": "code",
   "execution_count": 28,
   "id": "7364c15e-7e39-4940-b41a-2b044b66408f",
   "metadata": {},
   "outputs": [
    {
     "data": {
      "text/plain": [
       "0.578633"
      ]
     },
     "execution_count": 28,
     "metadata": {},
     "output_type": "execute_result"
    }
   ],
   "source": [
    "(payout == -1).mean()"
   ]
  },
  {
   "cell_type": "markdown",
   "id": "a2e20297-bac5-434b-90d1-28b97f96144b",
   "metadata": {},
   "source": [
    "##### What is the average cost/gain per game? (think of averaging the total payout calculation across all simulations)"
   ]
  },
  {
   "cell_type": "code",
   "execution_count": 29,
   "id": "582a2056-97c2-4e3c-b57f-6dcc5678a095",
   "metadata": {},
   "outputs": [
    {
     "data": {
      "text/plain": [
       "-0.500421"
      ]
     },
     "execution_count": 29,
     "metadata": {},
     "output_type": "execute_result"
    }
   ],
   "source": [
    "payout.mean()"
   ]
  },
  {
   "cell_type": "markdown",
   "id": "ae221150-2208-4855-a56b-64956e55409c",
   "metadata": {},
   "source": [
    "##### Chart out a histogram of all the outcomes of those 1,000,000 games"
   ]
  },
  {
   "cell_type": "code",
   "execution_count": 30,
   "id": "c07a8d7a-4e7d-4b73-b607-2876b4fb661e",
   "metadata": {},
   "outputs": [
    {
     "data": {
      "image/png": "[encoded data removed]",
      "text/plain": [
       "<Figure size 432x288 with 1 Axes>"
      ]
     },
     "metadata": {
      "needs_background": "light"
     },
     "output_type": "display_data"
    }
   ],
   "source": [
    "sns.histplot(payout)\n",
    "plt.title(\"Payout from 1,000,000 Games of Chuck a Luck\")\n",
    "plt.show()"
   ]
  },
  {
   "cell_type": "markdown",
   "id": "4282ca59-6724-4c84-bee7-62ed4a3f9a6a",
   "metadata": {},
   "source": [
    "##### Is this really a fair game of 1/6 + 1/6 + 1/6 odds?"
   ]
  },
  {
   "cell_type": "code",
   "execution_count": 31,
   "id": "1e00ae55-e83f-45c7-9415-aaf9a17cbc6c",
   "metadata": {},
   "outputs": [],
   "source": [
    "# No"
   ]
  },
  {
   "cell_type": "markdown",
   "id": "45c401a8-03b2-45b5-a2da-0281f047a3ea",
   "metadata": {},
   "source": [
    "##### If you play 1,000,000 games in a row, what are your winnings/losses?"
   ]
  },
  {
   "cell_type": "code",
   "execution_count": 32,
   "id": "b3293378-eead-48a1-90e1-6433e78b02aa",
   "metadata": {},
   "outputs": [
    {
     "data": {
      "text/plain": [
       "-500421"
      ]
     },
     "execution_count": 32,
     "metadata": {},
     "output_type": "execute_result"
    }
   ],
   "source": [
    "payout.sum()"
   ]
  },
  {
   "cell_type": "code",
   "execution_count": null,
   "id": "bc7c458e-6ba8-4005-8d7c-a00030c5beeb",
   "metadata": {},
   "outputs": [],
   "source": []
  }
 ],
 "metadata": {
  "kernelspec": {
   "display_name": "Python 3 (ipykernel)",
   "language": "python",
   "name": "python3"
  },
  "language_info": {
   "codemirror_mode": {
    "name": "ipython",
    "version": 3
   },
   "file_extension": ".py",
   "mimetype": "text/x-python",
   "name": "python",
   "nbconvert_exporter": "python",
   "pygments_lexer": "ipython3",
   "version": "3.9.12"
  }
 },
 "nbformat": 4,
 "nbformat_minor": 5
}
