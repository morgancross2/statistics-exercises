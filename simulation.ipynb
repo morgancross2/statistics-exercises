{
 "cells": [
  {
   "cell_type": "code",
   "execution_count": 14,
   "id": "5ea44d82-5c6b-4615-a10a-19ff1df45a01",
   "metadata": {},
   "outputs": [],
   "source": [
    "import numpy as np\n",
    "import pandas as pd\n",
    "np.random.seed(123)"
   ]
  },
  {
   "cell_type": "markdown",
   "id": "c2894e62-240c-48f2-a050-fc73df478f60",
   "metadata": {
    "tags": []
   },
   "source": [
    "##### 1. How likely is it that you roll doubles when rolling two dice?"
   ]
  },
  {
   "cell_type": "code",
   "execution_count": 26,
   "id": "9d413c39-d2dc-4676-a796-29fa476fce86",
   "metadata": {},
   "outputs": [
    {
     "data": {
      "text/html": [
       "<div>\n",
       "<style scoped>\n",
       "    .dataframe tbody tr th:only-of-type {\n",
       "        vertical-align: middle;\n",
       "    }\n",
       "\n",
       "    .dataframe tbody tr th {\n",
       "        vertical-align: top;\n",
       "    }\n",
       "\n",
       "    .dataframe thead th {\n",
       "        text-align: right;\n",
       "    }\n",
       "</style>\n",
       "<table border=\"1\" class=\"dataframe\">\n",
       "  <thead>\n",
       "    <tr style=\"text-align: right;\">\n",
       "      <th></th>\n",
       "      <th>0</th>\n",
       "      <th>1</th>\n",
       "    </tr>\n",
       "  </thead>\n",
       "  <tbody>\n",
       "    <tr>\n",
       "      <th>0</th>\n",
       "      <td>4</td>\n",
       "      <td>4</td>\n",
       "    </tr>\n",
       "    <tr>\n",
       "      <th>1</th>\n",
       "      <td>2</td>\n",
       "      <td>5</td>\n",
       "    </tr>\n",
       "    <tr>\n",
       "      <th>2</th>\n",
       "      <td>4</td>\n",
       "      <td>3</td>\n",
       "    </tr>\n",
       "    <tr>\n",
       "      <th>3</th>\n",
       "      <td>3</td>\n",
       "      <td>1</td>\n",
       "    </tr>\n",
       "    <tr>\n",
       "      <th>4</th>\n",
       "      <td>1</td>\n",
       "      <td>4</td>\n",
       "    </tr>\n",
       "  </tbody>\n",
       "</table>\n",
       "</div>"
      ],
      "text/plain": [
       "   0  1\n",
       "0  4  4\n",
       "1  2  5\n",
       "2  4  3\n",
       "3  3  1\n",
       "4  1  4"
      ]
     },
     "execution_count": 26,
     "metadata": {},
     "output_type": "execute_result"
    }
   ],
   "source": [
    "outcomes = [1,2,3,4,5,6]\n",
    "sims = 100_000\n",
    "trials = 2\n",
    "\n",
    "rolls = pd.DataFrame(np.random.choice(outcomes, (sims, trials)))\n",
    "rolls.head()"
   ]
  },
  {
   "cell_type": "code",
   "execution_count": 28,
   "id": "6b2e8858-e327-4773-a3bd-6fe00fad10e9",
   "metadata": {},
   "outputs": [
    {
     "data": {
      "text/html": [
       "<div>\n",
       "<style scoped>\n",
       "    .dataframe tbody tr th:only-of-type {\n",
       "        vertical-align: middle;\n",
       "    }\n",
       "\n",
       "    .dataframe tbody tr th {\n",
       "        vertical-align: top;\n",
       "    }\n",
       "\n",
       "    .dataframe thead th {\n",
       "        text-align: right;\n",
       "    }\n",
       "</style>\n",
       "<table border=\"1\" class=\"dataframe\">\n",
       "  <thead>\n",
       "    <tr style=\"text-align: right;\">\n",
       "      <th></th>\n",
       "      <th>0</th>\n",
       "      <th>1</th>\n",
       "    </tr>\n",
       "  </thead>\n",
       "  <tbody>\n",
       "    <tr>\n",
       "      <th>0</th>\n",
       "      <td>4</td>\n",
       "      <td>4</td>\n",
       "    </tr>\n",
       "    <tr>\n",
       "      <th>5</th>\n",
       "      <td>2</td>\n",
       "      <td>2</td>\n",
       "    </tr>\n",
       "    <tr>\n",
       "      <th>13</th>\n",
       "      <td>5</td>\n",
       "      <td>5</td>\n",
       "    </tr>\n",
       "    <tr>\n",
       "      <th>20</th>\n",
       "      <td>1</td>\n",
       "      <td>1</td>\n",
       "    </tr>\n",
       "    <tr>\n",
       "      <th>21</th>\n",
       "      <td>3</td>\n",
       "      <td>3</td>\n",
       "    </tr>\n",
       "  </tbody>\n",
       "</table>\n",
       "</div>"
      ],
      "text/plain": [
       "    0  1\n",
       "0   4  4\n",
       "5   2  2\n",
       "13  5  5\n",
       "20  1  1\n",
       "21  3  3"
      ]
     },
     "execution_count": 28,
     "metadata": {},
     "output_type": "execute_result"
    }
   ],
   "source": [
    "doubles = rolls[rolls[0] == rolls[1]]\n",
    "doubles.head()"
   ]
  },
  {
   "cell_type": "code",
   "execution_count": 29,
   "id": "76803247-2594-4821-8022-a5c4e23daaf1",
   "metadata": {},
   "outputs": [
    {
     "data": {
      "text/plain": [
       "0.1667"
      ]
     },
     "execution_count": 29,
     "metadata": {},
     "output_type": "execute_result"
    }
   ],
   "source": [
    "len(doubles)/len(rolls)"
   ]
  },
  {
   "cell_type": "markdown",
   "id": "ff38a54f-1528-4ad3-b276-b6ac5c318f4a",
   "metadata": {},
   "source": [
    "##### 2. If you flip 8 coins, what is the probability of getting exactly 3 heads? What is the probability of getting more than 3 heads?"
   ]
  },
  {
   "cell_type": "code",
   "execution_count": 47,
   "id": "5b6f3623-8e1e-4df2-ba5e-c989921b4ea6",
   "metadata": {},
   "outputs": [
    {
     "data": {
      "text/html": [
       "<div>\n",
       "<style scoped>\n",
       "    .dataframe tbody tr th:only-of-type {\n",
       "        vertical-align: middle;\n",
       "    }\n",
       "\n",
       "    .dataframe tbody tr th {\n",
       "        vertical-align: top;\n",
       "    }\n",
       "\n",
       "    .dataframe thead th {\n",
       "        text-align: right;\n",
       "    }\n",
       "</style>\n",
       "<table border=\"1\" class=\"dataframe\">\n",
       "  <thead>\n",
       "    <tr style=\"text-align: right;\">\n",
       "      <th></th>\n",
       "      <th>0</th>\n",
       "      <th>1</th>\n",
       "      <th>2</th>\n",
       "      <th>3</th>\n",
       "      <th>4</th>\n",
       "      <th>5</th>\n",
       "      <th>6</th>\n",
       "      <th>7</th>\n",
       "    </tr>\n",
       "  </thead>\n",
       "  <tbody>\n",
       "    <tr>\n",
       "      <th>0</th>\n",
       "      <td>0</td>\n",
       "      <td>1</td>\n",
       "      <td>0</td>\n",
       "      <td>0</td>\n",
       "      <td>1</td>\n",
       "      <td>1</td>\n",
       "      <td>0</td>\n",
       "      <td>0</td>\n",
       "    </tr>\n",
       "    <tr>\n",
       "      <th>1</th>\n",
       "      <td>0</td>\n",
       "      <td>1</td>\n",
       "      <td>1</td>\n",
       "      <td>1</td>\n",
       "      <td>0</td>\n",
       "      <td>1</td>\n",
       "      <td>0</td>\n",
       "      <td>1</td>\n",
       "    </tr>\n",
       "    <tr>\n",
       "      <th>2</th>\n",
       "      <td>0</td>\n",
       "      <td>1</td>\n",
       "      <td>1</td>\n",
       "      <td>1</td>\n",
       "      <td>1</td>\n",
       "      <td>0</td>\n",
       "      <td>0</td>\n",
       "      <td>1</td>\n",
       "    </tr>\n",
       "    <tr>\n",
       "      <th>3</th>\n",
       "      <td>0</td>\n",
       "      <td>1</td>\n",
       "      <td>0</td>\n",
       "      <td>0</td>\n",
       "      <td>1</td>\n",
       "      <td>0</td>\n",
       "      <td>1</td>\n",
       "      <td>0</td>\n",
       "    </tr>\n",
       "    <tr>\n",
       "      <th>4</th>\n",
       "      <td>0</td>\n",
       "      <td>1</td>\n",
       "      <td>1</td>\n",
       "      <td>0</td>\n",
       "      <td>1</td>\n",
       "      <td>1</td>\n",
       "      <td>1</td>\n",
       "      <td>0</td>\n",
       "    </tr>\n",
       "  </tbody>\n",
       "</table>\n",
       "</div>"
      ],
      "text/plain": [
       "   0  1  2  3  4  5  6  7\n",
       "0  0  1  0  0  1  1  0  0\n",
       "1  0  1  1  1  0  1  0  1\n",
       "2  0  1  1  1  1  0  0  1\n",
       "3  0  1  0  0  1  0  1  0\n",
       "4  0  1  1  0  1  1  1  0"
      ]
     },
     "execution_count": 47,
     "metadata": {},
     "output_type": "execute_result"
    }
   ],
   "source": [
    "#heads is 1, tails is 0\n",
    "outcomes = [0, 1]\n",
    "sims = 100_000\n",
    "trials = 8\n",
    "\n",
    "flips = pd.DataFrame(np.random.choice(outcomes, (sims, trials)))\n",
    "flips.head()"
   ]
  },
  {
   "cell_type": "code",
   "execution_count": 48,
   "id": "e2b07347-3671-4c74-b6a1-f4089b67f5a7",
   "metadata": {},
   "outputs": [
    {
     "data": {
      "text/plain": [
       "0    3\n",
       "1    5\n",
       "2    5\n",
       "3    3\n",
       "4    5\n",
       "dtype: int64"
      ]
     },
     "execution_count": 48,
     "metadata": {},
     "output_type": "execute_result"
    }
   ],
   "source": [
    "heads = flips.sum(axis=1)\n",
    "heads.head()"
   ]
  },
  {
   "cell_type": "code",
   "execution_count": 49,
   "id": "2407cdca-7070-48e8-be4f-99a9090bee1b",
   "metadata": {},
   "outputs": [
    {
     "data": {
      "text/plain": [
       "0.22231"
      ]
     },
     "execution_count": 49,
     "metadata": {},
     "output_type": "execute_result"
    }
   ],
   "source": [
    "# Prob of getting exactly 3 heads\n",
    "(heads == 3).mean()"
   ]
  },
  {
   "cell_type": "code",
   "execution_count": 50,
   "id": "c3af9196-66f4-427d-81ae-50239d225647",
   "metadata": {},
   "outputs": [
    {
     "data": {
      "text/plain": [
       "0.63491"
      ]
     },
     "execution_count": 50,
     "metadata": {},
     "output_type": "execute_result"
    }
   ],
   "source": [
    "# Prob of getting more than 3 heads\n",
    "(heads > 3).mean()"
   ]
  },
  {
   "cell_type": "markdown",
   "id": "e8da168a-180f-4d30-bc9e-8dfd86041f3f",
   "metadata": {},
   "source": [
    "##### 3. There are approximitely 3 web development cohorts for every 1 data science cohort at Codeup. Assuming that Codeup randomly selects an alumni to put on a billboard, what are the odds that the two billboards I drive past both have data science students on them?"
   ]
  },
  {
   "cell_type": "code",
   "execution_count": 54,
   "id": "8af346c9-ca0a-4e80-9244-b553a22a52d2",
   "metadata": {},
   "outputs": [
    {
     "data": {
      "text/plain": [
       "array([[0.76901994, 0.84155157],\n",
       "       [0.41864384, 0.2844702 ],\n",
       "       [0.84092506, 0.49569105],\n",
       "       ...,\n",
       "       [0.34505923, 0.22931901],\n",
       "       [0.91302138, 0.72185936],\n",
       "       [0.22371735, 0.17688086]])"
      ]
     },
     "execution_count": 54,
     "metadata": {},
     "output_type": "execute_result"
    }
   ],
   "source": [
    "webd = .75\n",
    "ds = .25\n",
    "bbs = 2\n",
    "sims = 100_000\n",
    "\n",
    "data = np.random.random((sims, bbs))\n",
    "data"
   ]
  },
  {
   "cell_type": "code",
   "execution_count": 55,
   "id": "49c747b7-a107-43ab-9a03-56c473a0e9dc",
   "metadata": {},
   "outputs": [
    {
     "data": {
      "text/plain": [
       "array([0, 0, 0, ..., 1, 0, 2])"
      ]
     },
     "execution_count": 55,
     "metadata": {},
     "output_type": "execute_result"
    }
   ],
   "source": [
    "ds_bbs = (data < ds).sum(axis=1)\n",
    "ds_bbs"
   ]
  },
  {
   "cell_type": "code",
   "execution_count": 57,
   "id": "7583fe7e-2eee-4cf4-ac9f-9ec8310908f4",
   "metadata": {},
   "outputs": [
    {
     "data": {
      "text/plain": [
       "0.06382"
      ]
     },
     "execution_count": 57,
     "metadata": {},
     "output_type": "execute_result"
    }
   ],
   "source": [
    "# Prob of seeing ds on both bbs\n",
    "(ds_bbs == 2).mean()"
   ]
  },
  {
   "cell_type": "markdown",
   "id": "2a4e57d6-8815-430b-a6d6-2db5ab27d3ac",
   "metadata": {},
   "source": [
    "##### 4. Codeup students buy, on average, 3 poptart packages with a standard deviation of 1.5 a day from the snack vending machine. If on monday the machine is restocked with 17 poptart packages, how likely is it that I will be able to buy some poptarts on Friday afternoon? (Remember, if you have mean and standard deviation, use the np.random.normal) You'll need to make a judgement call on how to handle some of your values"
   ]
  },
  {
   "cell_type": "code",
   "execution_count": 63,
   "id": "160f4532-a9ad-4a9b-b4c8-29ad6582a1b7",
   "metadata": {},
   "outputs": [
    {
     "data": {
      "text/plain": [
       "array([[ 2.99530355,  5.40869892,  1.66562915,  4.19379706,  4.53824509],\n",
       "       [ 0.47614322,  5.04343603,  4.67249937,  2.32490826,  3.00157496],\n",
       "       [ 3.42629622,  0.95785826,  5.84111496,  2.24609564,  1.44850979],\n",
       "       ...,\n",
       "       [ 4.85497506,  3.29046326, -0.38098325,  5.51390499,  3.08343246],\n",
       "       [ 3.18136205,  0.5773175 ,  2.32387638,  1.98129708,  2.0213897 ],\n",
       "       [ 4.36548518,  3.9778664 , -0.33330256,  0.97592496,  4.27111458]])"
      ]
     },
     "execution_count": 63,
     "metadata": {},
     "output_type": "execute_result"
    }
   ],
   "source": [
    "u = 3\n",
    "sd = 1.5\n",
    "stock = 17\n",
    "days = 5\n",
    "sims = 100_000\n",
    "\n",
    "consumed = np.random.normal(3, 1.5, (sims, days))\n",
    "consumed"
   ]
  },
  {
   "cell_type": "code",
   "execution_count": 64,
   "id": "2ad74ab0-3997-4d2c-82e3-bba791595a74",
   "metadata": {},
   "outputs": [
    {
     "data": {
      "text/plain": [
       "array([18.80167377, 15.51856185, 13.91987488, ..., 16.36179252,\n",
       "       10.08524269, 13.25708854])"
      ]
     },
     "execution_count": 64,
     "metadata": {},
     "output_type": "execute_result"
    }
   ],
   "source": [
    "week_consumed = (consumed.sum(axis=1))\n",
    "week_consumed"
   ]
  },
  {
   "cell_type": "code",
   "execution_count": 65,
   "id": "656c9e98-acd1-49e8-8d27-48220b28c56d",
   "metadata": {},
   "outputs": [
    {
     "data": {
      "text/plain": [
       "0.72428"
      ]
     },
     "execution_count": 65,
     "metadata": {},
     "output_type": "execute_result"
    }
   ],
   "source": [
    "# Prob of less than 17 packages bought any given week\n",
    "(week_consumed < 17).mean()"
   ]
  },
  {
   "cell_type": "markdown",
   "id": "2d2553da-a035-46fe-a7fc-3fd5049af6d4",
   "metadata": {},
   "source": [
    "##### 5. Compare Heights\n",
    "##### 5.a Men have an average height of 178 cm and standard deviation of 8cm."
   ]
  },
  {
   "cell_type": "code",
   "execution_count": 79,
   "id": "de0d684e-bf92-4ea4-9d94-503778c10068",
   "metadata": {},
   "outputs": [],
   "source": [
    "u_men = 178\n",
    "sd_men = 8"
   ]
  },
  {
   "cell_type": "markdown",
   "id": "ec0fec20-c58c-448d-aeee-5df4225fb5be",
   "metadata": {},
   "source": [
    "##### 5.b Women have a mean of 170, sd = 6cm."
   ]
  },
  {
   "cell_type": "code",
   "execution_count": 80,
   "id": "a3bb6712-7656-4b8a-8ee2-b8df6793e2c5",
   "metadata": {},
   "outputs": [],
   "source": [
    "u_women = 170\n",
    "sd_women = 6"
   ]
  },
  {
   "cell_type": "markdown",
   "id": "2a15bb94-6aef-4f74-bcb1-554f70774e5c",
   "metadata": {},
   "source": [
    "##### 5.c Since you have means and standard deviations, you can use np.random.normal to generate observations."
   ]
  },
  {
   "cell_type": "code",
   "execution_count": 81,
   "id": "2614f16a-6769-4822-9003-8e6f29e8da82",
   "metadata": {},
   "outputs": [],
   "source": [
    "sims = 100_000\n",
    "men_obs = np.random.normal(u_men, sd_men, sims)\n",
    "women_obs = np.random.normal(u_women, sd_women, sims)"
   ]
  },
  {
   "cell_type": "markdown",
   "id": "cee855f3-8372-4a26-8366-1ef65c05961d",
   "metadata": {},
   "source": [
    "##### 5.d If a man and woman are chosen at random, what is the likelihood the woman is taller than the man?"
   ]
  },
  {
   "cell_type": "code",
   "execution_count": 82,
   "id": "20ef2d4b-b09d-42d5-a577-34774825bc43",
   "metadata": {},
   "outputs": [
    {
     "data": {
      "text/plain": [
       "0.21185"
      ]
     },
     "execution_count": 82,
     "metadata": {},
     "output_type": "execute_result"
    }
   ],
   "source": [
    "(men_obs < women_obs).mean()"
   ]
  },
  {
   "cell_type": "markdown",
   "id": "ab176cec-c0c9-441b-b81a-801b3030102e",
   "metadata": {},
   "source": [
    "##### 6.a When installing anaconda on a student's computer, there's a 1 in 250 chance that the download is corrupted and the installation fails. What are the odds that after having 50 students download anaconda, no one has an installation issue? "
   ]
  },
  {
   "cell_type": "code",
   "execution_count": 83,
   "id": "50771cda-1069-405d-9151-8970d28d255b",
   "metadata": {},
   "outputs": [
    {
     "data": {
      "text/plain": [
       "array([[0.85733427, 0.02997797, 0.68148016, ..., 0.08895904, 0.3690883 ,\n",
       "        0.87890758],\n",
       "       [0.26234904, 0.40044343, 0.85496476, ..., 0.86745983, 0.57419071,\n",
       "        0.76341741],\n",
       "       [0.66278328, 0.56734781, 0.1284621 , ..., 0.50175719, 0.4965644 ,\n",
       "        0.02247261],\n",
       "       ...,\n",
       "       [0.3840669 , 0.49324819, 0.60296079, ..., 0.73680593, 0.18546396,\n",
       "        0.01816609],\n",
       "       [0.87510313, 0.37499914, 0.04688663, ..., 0.42149272, 0.73729418,\n",
       "        0.29337541],\n",
       "       [0.67278093, 0.52142844, 0.34058319, ..., 0.36366713, 0.59969282,\n",
       "        0.20683059]])"
      ]
     },
     "execution_count": 83,
     "metadata": {},
     "output_type": "execute_result"
    }
   ],
   "source": [
    "sims = 100_000\n",
    "students = 50\n",
    "corrupted = 1/250\n",
    "\n",
    "installs = np.random.random((sims, students))\n",
    "installs"
   ]
  },
  {
   "cell_type": "code",
   "execution_count": 84,
   "id": "20e8d582-1554-4e6c-a073-8d058bbf94e7",
   "metadata": {},
   "outputs": [
    {
     "data": {
      "text/plain": [
       "array([0, 0, 0, ..., 0, 1, 0])"
      ]
     },
     "execution_count": 84,
     "metadata": {},
     "output_type": "execute_result"
    }
   ],
   "source": [
    "fails = (installs < corrupted).sum(axis=1)\n",
    "fails"
   ]
  },
  {
   "cell_type": "code",
   "execution_count": 85,
   "id": "a8ce91a0-fb4e-43ad-978a-7921a9e57072",
   "metadata": {},
   "outputs": [
    {
     "data": {
      "text/plain": [
       "0.81831"
      ]
     },
     "execution_count": 85,
     "metadata": {},
     "output_type": "execute_result"
    }
   ],
   "source": [
    "# Prob of no download fails:\n",
    "(fails == 0).mean()"
   ]
  },
  {
   "cell_type": "markdown",
   "id": "85aaeb59-8b49-4f79-b284-7035f12acc2a",
   "metadata": {},
   "source": [
    "##### 6.b 100 students?"
   ]
  },
  {
   "cell_type": "code",
   "execution_count": 87,
   "id": "432574c4-92ca-4e8f-9499-0b07aef3d388",
   "metadata": {},
   "outputs": [
    {
     "data": {
      "text/plain": [
       "0.66858"
      ]
     },
     "execution_count": 87,
     "metadata": {},
     "output_type": "execute_result"
    }
   ],
   "source": [
    "sims = 100_000\n",
    "students = 100\n",
    "corrupted = 1/250\n",
    "\n",
    "installs = np.random.random((sims, students))\n",
    "fails = (installs < corrupted).sum(axis=1)\n",
    "(fails == 0).mean()"
   ]
  },
  {
   "cell_type": "markdown",
   "id": "a77054c8-ff97-491b-8c0f-be5bf52458be",
   "metadata": {},
   "source": [
    "##### 6.c What is the probability that we observe an installation issue within the first 150 students that download anaconda?"
   ]
  },
  {
   "cell_type": "code",
   "execution_count": 91,
   "id": "c79fc988-bb07-41d7-9493-d77733b3d221",
   "metadata": {},
   "outputs": [
    {
     "data": {
      "text/plain": [
       "1.0"
      ]
     },
     "execution_count": 91,
     "metadata": {},
     "output_type": "execute_result"
    }
   ],
   "source": [
    "sims = 1\n",
    "students = 150\n",
    "corrupted = 1/250\n",
    "\n",
    "installs = np.random.random((sims, students))\n",
    "fails = (installs < corrupted).sum(axis=1)\n",
    "(fails == 0).mean()"
   ]
  },
  {
   "cell_type": "markdown",
   "id": "491fa6c5-94da-4d02-8d67-d03dd2746cdb",
   "metadata": {},
   "source": [
    "##### 6.d How likely is it that 450 students all download anaconda without an issue?"
   ]
  },
  {
   "cell_type": "code",
   "execution_count": 92,
   "id": "56338aec-e127-4410-939f-23be49e56022",
   "metadata": {},
   "outputs": [
    {
     "data": {
      "text/plain": [
       "0.16362"
      ]
     },
     "execution_count": 92,
     "metadata": {},
     "output_type": "execute_result"
    }
   ],
   "source": [
    "sims = 100_000\n",
    "students = 450\n",
    "corrupted = 1/250\n",
    "\n",
    "installs = np.random.random((sims, students))\n",
    "fails = (installs < corrupted).sum(axis=1)\n",
    "(fails == 0).mean()"
   ]
  },
  {
   "cell_type": "markdown",
   "id": "6d900be3-0146-4008-9fa4-e45019a37cce",
   "metadata": {},
   "source": [
    "##### 7. There's a 70% chance on any given day that there will be at least one food truck at Travis Park. However, you haven't seen a food truck there in 3 days. How unlikely is this?"
   ]
  },
  {
   "cell_type": "code",
   "execution_count": 98,
   "id": "89ede9a7-4a49-40e2-aaf4-b5c609dad6c6",
   "metadata": {},
   "outputs": [
    {
     "data": {
      "text/plain": [
       "0.02693"
      ]
     },
     "execution_count": 98,
     "metadata": {},
     "output_type": "execute_result"
    }
   ],
   "source": [
    "sims = 100_000\n",
    "truck_show = .7\n",
    "days = 3\n",
    "\n",
    "data = np.random.random((sims, days))\n",
    "truck_no_show = (data > truck).sum(axis=1)\n",
    "(truck_no_show == 3).mean()"
   ]
  },
  {
   "cell_type": "markdown",
   "id": "e442dce4-4b1b-4125-a5b6-8c30da2d68a7",
   "metadata": {},
   "source": [
    "##### 7.b How likely is it that a food truck will show up sometime this week?"
   ]
  },
  {
   "cell_type": "code",
   "execution_count": 99,
   "id": "4bb78c1d-336f-4d95-810c-1d1c04d69111",
   "metadata": {},
   "outputs": [
    {
     "data": {
      "text/plain": [
       "0.99977"
      ]
     },
     "execution_count": 99,
     "metadata": {},
     "output_type": "execute_result"
    }
   ],
   "source": [
    "sims = 100_000\n",
    "truck_show = .7\n",
    "days = 7\n",
    "\n",
    "data = np.random.random((sims, days))\n",
    "truck_no_show = (data > truck).sum(axis=1)\n",
    "(truck_no_show < 7).mean()"
   ]
  },
  {
   "cell_type": "markdown",
   "id": "13b4423a-49fb-4c3a-8847-3291762b6696",
   "metadata": {},
   "source": [
    "##### 8. If 23 people are in the same room, what are the odds that two of them share a birthday? What if it's 20 people? 40?"
   ]
  },
  {
   "cell_type": "code",
   "execution_count": 129,
   "id": "696d95be-360e-41c6-83e8-ef8a8cfbdbe9",
   "metadata": {},
   "outputs": [
    {
     "data": {
      "text/html": [
       "<div>\n",
       "<style scoped>\n",
       "    .dataframe tbody tr th:only-of-type {\n",
       "        vertical-align: middle;\n",
       "    }\n",
       "\n",
       "    .dataframe tbody tr th {\n",
       "        vertical-align: top;\n",
       "    }\n",
       "\n",
       "    .dataframe thead th {\n",
       "        text-align: right;\n",
       "    }\n",
       "</style>\n",
       "<table border=\"1\" class=\"dataframe\">\n",
       "  <thead>\n",
       "    <tr style=\"text-align: right;\">\n",
       "      <th></th>\n",
       "      <th>0</th>\n",
       "      <th>1</th>\n",
       "      <th>2</th>\n",
       "      <th>3</th>\n",
       "      <th>4</th>\n",
       "      <th>5</th>\n",
       "      <th>6</th>\n",
       "      <th>7</th>\n",
       "      <th>8</th>\n",
       "      <th>9</th>\n",
       "      <th>...</th>\n",
       "      <th>13</th>\n",
       "      <th>14</th>\n",
       "      <th>15</th>\n",
       "      <th>16</th>\n",
       "      <th>17</th>\n",
       "      <th>18</th>\n",
       "      <th>19</th>\n",
       "      <th>20</th>\n",
       "      <th>21</th>\n",
       "      <th>22</th>\n",
       "    </tr>\n",
       "  </thead>\n",
       "  <tbody>\n",
       "    <tr>\n",
       "      <th>0</th>\n",
       "      <td>213</td>\n",
       "      <td>4</td>\n",
       "      <td>91</td>\n",
       "      <td>305</td>\n",
       "      <td>116</td>\n",
       "      <td>266</td>\n",
       "      <td>213</td>\n",
       "      <td>223</td>\n",
       "      <td>83</td>\n",
       "      <td>20</td>\n",
       "      <td>...</td>\n",
       "      <td>233</td>\n",
       "      <td>112</td>\n",
       "      <td>46</td>\n",
       "      <td>65</td>\n",
       "      <td>111</td>\n",
       "      <td>323</td>\n",
       "      <td>290</td>\n",
       "      <td>103</td>\n",
       "      <td>177</td>\n",
       "      <td>361</td>\n",
       "    </tr>\n",
       "    <tr>\n",
       "      <th>1</th>\n",
       "      <td>220</td>\n",
       "      <td>159</td>\n",
       "      <td>345</td>\n",
       "      <td>0</td>\n",
       "      <td>310</td>\n",
       "      <td>203</td>\n",
       "      <td>35</td>\n",
       "      <td>363</td>\n",
       "      <td>256</td>\n",
       "      <td>284</td>\n",
       "      <td>...</td>\n",
       "      <td>76</td>\n",
       "      <td>143</td>\n",
       "      <td>304</td>\n",
       "      <td>191</td>\n",
       "      <td>29</td>\n",
       "      <td>236</td>\n",
       "      <td>334</td>\n",
       "      <td>197</td>\n",
       "      <td>315</td>\n",
       "      <td>344</td>\n",
       "    </tr>\n",
       "    <tr>\n",
       "      <th>2</th>\n",
       "      <td>311</td>\n",
       "      <td>123</td>\n",
       "      <td>240</td>\n",
       "      <td>353</td>\n",
       "      <td>176</td>\n",
       "      <td>8</td>\n",
       "      <td>90</td>\n",
       "      <td>49</td>\n",
       "      <td>127</td>\n",
       "      <td>12</td>\n",
       "      <td>...</td>\n",
       "      <td>107</td>\n",
       "      <td>359</td>\n",
       "      <td>282</td>\n",
       "      <td>23</td>\n",
       "      <td>102</td>\n",
       "      <td>110</td>\n",
       "      <td>217</td>\n",
       "      <td>307</td>\n",
       "      <td>174</td>\n",
       "      <td>106</td>\n",
       "    </tr>\n",
       "    <tr>\n",
       "      <th>3</th>\n",
       "      <td>275</td>\n",
       "      <td>232</td>\n",
       "      <td>122</td>\n",
       "      <td>40</td>\n",
       "      <td>139</td>\n",
       "      <td>176</td>\n",
       "      <td>39</td>\n",
       "      <td>333</td>\n",
       "      <td>88</td>\n",
       "      <td>143</td>\n",
       "      <td>...</td>\n",
       "      <td>36</td>\n",
       "      <td>88</td>\n",
       "      <td>231</td>\n",
       "      <td>270</td>\n",
       "      <td>66</td>\n",
       "      <td>301</td>\n",
       "      <td>316</td>\n",
       "      <td>184</td>\n",
       "      <td>336</td>\n",
       "      <td>48</td>\n",
       "    </tr>\n",
       "    <tr>\n",
       "      <th>4</th>\n",
       "      <td>185</td>\n",
       "      <td>75</td>\n",
       "      <td>5</td>\n",
       "      <td>192</td>\n",
       "      <td>348</td>\n",
       "      <td>7</td>\n",
       "      <td>148</td>\n",
       "      <td>191</td>\n",
       "      <td>206</td>\n",
       "      <td>249</td>\n",
       "      <td>...</td>\n",
       "      <td>311</td>\n",
       "      <td>108</td>\n",
       "      <td>123</td>\n",
       "      <td>141</td>\n",
       "      <td>277</td>\n",
       "      <td>118</td>\n",
       "      <td>167</td>\n",
       "      <td>295</td>\n",
       "      <td>9</td>\n",
       "      <td>340</td>\n",
       "    </tr>\n",
       "    <tr>\n",
       "      <th>...</th>\n",
       "      <td>...</td>\n",
       "      <td>...</td>\n",
       "      <td>...</td>\n",
       "      <td>...</td>\n",
       "      <td>...</td>\n",
       "      <td>...</td>\n",
       "      <td>...</td>\n",
       "      <td>...</td>\n",
       "      <td>...</td>\n",
       "      <td>...</td>\n",
       "      <td>...</td>\n",
       "      <td>...</td>\n",
       "      <td>...</td>\n",
       "      <td>...</td>\n",
       "      <td>...</td>\n",
       "      <td>...</td>\n",
       "      <td>...</td>\n",
       "      <td>...</td>\n",
       "      <td>...</td>\n",
       "      <td>...</td>\n",
       "      <td>...</td>\n",
       "    </tr>\n",
       "    <tr>\n",
       "      <th>99995</th>\n",
       "      <td>167</td>\n",
       "      <td>315</td>\n",
       "      <td>192</td>\n",
       "      <td>214</td>\n",
       "      <td>2</td>\n",
       "      <td>131</td>\n",
       "      <td>140</td>\n",
       "      <td>296</td>\n",
       "      <td>39</td>\n",
       "      <td>92</td>\n",
       "      <td>...</td>\n",
       "      <td>82</td>\n",
       "      <td>243</td>\n",
       "      <td>150</td>\n",
       "      <td>113</td>\n",
       "      <td>64</td>\n",
       "      <td>23</td>\n",
       "      <td>346</td>\n",
       "      <td>265</td>\n",
       "      <td>140</td>\n",
       "      <td>93</td>\n",
       "    </tr>\n",
       "    <tr>\n",
       "      <th>99996</th>\n",
       "      <td>166</td>\n",
       "      <td>72</td>\n",
       "      <td>19</td>\n",
       "      <td>217</td>\n",
       "      <td>59</td>\n",
       "      <td>289</td>\n",
       "      <td>137</td>\n",
       "      <td>30</td>\n",
       "      <td>166</td>\n",
       "      <td>226</td>\n",
       "      <td>...</td>\n",
       "      <td>160</td>\n",
       "      <td>281</td>\n",
       "      <td>54</td>\n",
       "      <td>99</td>\n",
       "      <td>31</td>\n",
       "      <td>340</td>\n",
       "      <td>44</td>\n",
       "      <td>81</td>\n",
       "      <td>175</td>\n",
       "      <td>293</td>\n",
       "    </tr>\n",
       "    <tr>\n",
       "      <th>99997</th>\n",
       "      <td>131</td>\n",
       "      <td>80</td>\n",
       "      <td>307</td>\n",
       "      <td>109</td>\n",
       "      <td>132</td>\n",
       "      <td>27</td>\n",
       "      <td>235</td>\n",
       "      <td>299</td>\n",
       "      <td>101</td>\n",
       "      <td>299</td>\n",
       "      <td>...</td>\n",
       "      <td>342</td>\n",
       "      <td>98</td>\n",
       "      <td>221</td>\n",
       "      <td>274</td>\n",
       "      <td>246</td>\n",
       "      <td>329</td>\n",
       "      <td>149</td>\n",
       "      <td>334</td>\n",
       "      <td>140</td>\n",
       "      <td>141</td>\n",
       "    </tr>\n",
       "    <tr>\n",
       "      <th>99998</th>\n",
       "      <td>326</td>\n",
       "      <td>227</td>\n",
       "      <td>139</td>\n",
       "      <td>47</td>\n",
       "      <td>305</td>\n",
       "      <td>150</td>\n",
       "      <td>362</td>\n",
       "      <td>204</td>\n",
       "      <td>263</td>\n",
       "      <td>25</td>\n",
       "      <td>...</td>\n",
       "      <td>145</td>\n",
       "      <td>49</td>\n",
       "      <td>250</td>\n",
       "      <td>77</td>\n",
       "      <td>353</td>\n",
       "      <td>113</td>\n",
       "      <td>111</td>\n",
       "      <td>185</td>\n",
       "      <td>334</td>\n",
       "      <td>266</td>\n",
       "    </tr>\n",
       "    <tr>\n",
       "      <th>99999</th>\n",
       "      <td>282</td>\n",
       "      <td>202</td>\n",
       "      <td>203</td>\n",
       "      <td>257</td>\n",
       "      <td>191</td>\n",
       "      <td>204</td>\n",
       "      <td>317</td>\n",
       "      <td>268</td>\n",
       "      <td>260</td>\n",
       "      <td>51</td>\n",
       "      <td>...</td>\n",
       "      <td>72</td>\n",
       "      <td>176</td>\n",
       "      <td>161</td>\n",
       "      <td>237</td>\n",
       "      <td>53</td>\n",
       "      <td>211</td>\n",
       "      <td>111</td>\n",
       "      <td>190</td>\n",
       "      <td>249</td>\n",
       "      <td>349</td>\n",
       "    </tr>\n",
       "  </tbody>\n",
       "</table>\n",
       "<p>100000 rows × 23 columns</p>\n",
       "</div>"
      ],
      "text/plain": [
       "        0    1    2    3    4    5    6    7    8    9   ...   13   14   15  \\\n",
       "0      213    4   91  305  116  266  213  223   83   20  ...  233  112   46   \n",
       "1      220  159  345    0  310  203   35  363  256  284  ...   76  143  304   \n",
       "2      311  123  240  353  176    8   90   49  127   12  ...  107  359  282   \n",
       "3      275  232  122   40  139  176   39  333   88  143  ...   36   88  231   \n",
       "4      185   75    5  192  348    7  148  191  206  249  ...  311  108  123   \n",
       "...    ...  ...  ...  ...  ...  ...  ...  ...  ...  ...  ...  ...  ...  ...   \n",
       "99995  167  315  192  214    2  131  140  296   39   92  ...   82  243  150   \n",
       "99996  166   72   19  217   59  289  137   30  166  226  ...  160  281   54   \n",
       "99997  131   80  307  109  132   27  235  299  101  299  ...  342   98  221   \n",
       "99998  326  227  139   47  305  150  362  204  263   25  ...  145   49  250   \n",
       "99999  282  202  203  257  191  204  317  268  260   51  ...   72  176  161   \n",
       "\n",
       "        16   17   18   19   20   21   22  \n",
       "0       65  111  323  290  103  177  361  \n",
       "1      191   29  236  334  197  315  344  \n",
       "2       23  102  110  217  307  174  106  \n",
       "3      270   66  301  316  184  336   48  \n",
       "4      141  277  118  167  295    9  340  \n",
       "...    ...  ...  ...  ...  ...  ...  ...  \n",
       "99995  113   64   23  346  265  140   93  \n",
       "99996   99   31  340   44   81  175  293  \n",
       "99997  274  246  329  149  334  140  141  \n",
       "99998   77  353  113  111  185  334  266  \n",
       "99999  237   53  211  111  190  249  349  \n",
       "\n",
       "[100000 rows x 23 columns]"
      ]
     },
     "execution_count": 129,
     "metadata": {},
     "output_type": "execute_result"
    }
   ],
   "source": [
    "sims = 100_000\n",
    "days = range(365)\n",
    "people = 23\n",
    "\n",
    "birthdays = pd.DataFrame(np.random.choice(days, (sims, people)))\n",
    "birthdays"
   ]
  },
  {
   "cell_type": "code",
   "execution_count": 130,
   "id": "51b5d852-de9c-4cf5-ad1c-41d3ba1a72dd",
   "metadata": {},
   "outputs": [],
   "source": [
    "def doubles(b):\n",
    "    if len(b) > len(b.unique()):\n",
    "        return True\n",
    "    return False"
   ]
  },
  {
   "cell_type": "code",
   "execution_count": 131,
   "id": "c3c58376-2292-4507-8b0c-9cafcf58aea0",
   "metadata": {},
   "outputs": [],
   "source": [
    "doubs = birthdays.apply(doubles, axis=1)"
   ]
  },
  {
   "cell_type": "code",
   "execution_count": 132,
   "id": "f8e3ce00-22d1-408d-a153-976155296a1e",
   "metadata": {},
   "outputs": [
    {
     "data": {
      "text/plain": [
       "0.50766"
      ]
     },
     "execution_count": 132,
     "metadata": {},
     "output_type": "execute_result"
    }
   ],
   "source": [
    "(doubs == True).mean()"
   ]
  },
  {
   "cell_type": "code",
   "execution_count": 134,
   "id": "62c2d83a-21d4-41fa-be20-c59fed975fe4",
   "metadata": {},
   "outputs": [
    {
     "data": {
      "text/plain": [
       "0.41138"
      ]
     },
     "execution_count": 134,
     "metadata": {},
     "output_type": "execute_result"
    }
   ],
   "source": [
    "#20 people\n",
    "sims = 100_000\n",
    "days = range(365)\n",
    "people = 20\n",
    "\n",
    "birthdays = pd.DataFrame(np.random.choice(days, (sims, people)))\n",
    "doubs = birthdays.apply(doubles, axis=1)\n",
    "(doubs == True).mean()"
   ]
  },
  {
   "cell_type": "code",
   "execution_count": 135,
   "id": "c38b5834-c477-4795-85ba-2e90fbb2e062",
   "metadata": {},
   "outputs": [
    {
     "data": {
      "text/plain": [
       "0.8904"
      ]
     },
     "execution_count": 135,
     "metadata": {},
     "output_type": "execute_result"
    }
   ],
   "source": [
    "#40 people\n",
    "#20 people\n",
    "sims = 100_000\n",
    "days = range(365)\n",
    "people = 40\n",
    "\n",
    "birthdays = pd.DataFrame(np.random.choice(days, (sims, people)))\n",
    "doubs = birthdays.apply(doubles, axis=1)\n",
    "(doubs == True).mean()"
   ]
  },
  {
   "cell_type": "code",
   "execution_count": null,
   "id": "b24469b8-56e4-4e82-af40-cb5b34b0a692",
   "metadata": {},
   "outputs": [],
   "source": []
  }
 ],
 "metadata": {
  "kernelspec": {
   "display_name": "Python 3 (ipykernel)",
   "language": "python",
   "name": "python3"
  },
  "language_info": {
   "codemirror_mode": {
    "name": "ipython",
    "version": 3
   },
   "file_extension": ".py",
   "mimetype": "text/x-python",
   "name": "python",
   "nbconvert_exporter": "python",
   "pygments_lexer": "ipython3",
   "version": "3.9.12"
  }
 },
 "nbformat": 4,
 "nbformat_minor": 5
}
