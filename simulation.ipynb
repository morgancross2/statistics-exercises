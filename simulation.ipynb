{
 "cells": [
  {
   "cell_type": "code",
   "execution_count": 1,
   "id": "5ea44d82-5c6b-4615-a10a-19ff1df45a01",
   "metadata": {},
   "outputs": [],
   "source": [
    "import numpy as np\n",
    "import pandas as pd\n",
    "np.random.seed(123)"
   ]
  },
  {
   "cell_type": "markdown",
   "id": "c2894e62-240c-48f2-a050-fc73df478f60",
   "metadata": {
    "tags": []
   },
   "source": [
    "##### 1. How likely is it that you roll doubles when rolling two dice?"
   ]
  },
  {
   "cell_type": "code",
   "execution_count": 2,
   "id": "9d413c39-d2dc-4676-a796-29fa476fce86",
   "metadata": {},
   "outputs": [
    {
     "data": {
      "text/html": [
       "<div>\n",
       "<style scoped>\n",
       "    .dataframe tbody tr th:only-of-type {\n",
       "        vertical-align: middle;\n",
       "    }\n",
       "\n",
       "    .dataframe tbody tr th {\n",
       "        vertical-align: top;\n",
       "    }\n",
       "\n",
       "    .dataframe thead th {\n",
       "        text-align: right;\n",
       "    }\n",
       "</style>\n",
       "<table border=\"1\" class=\"dataframe\">\n",
       "  <thead>\n",
       "    <tr style=\"text-align: right;\">\n",
       "      <th></th>\n",
       "      <th>0</th>\n",
       "      <th>1</th>\n",
       "    </tr>\n",
       "  </thead>\n",
       "  <tbody>\n",
       "    <tr>\n",
       "      <th>0</th>\n",
       "      <td>6</td>\n",
       "      <td>3</td>\n",
       "    </tr>\n",
       "    <tr>\n",
       "      <th>1</th>\n",
       "      <td>5</td>\n",
       "      <td>3</td>\n",
       "    </tr>\n",
       "    <tr>\n",
       "      <th>2</th>\n",
       "      <td>2</td>\n",
       "      <td>4</td>\n",
       "    </tr>\n",
       "    <tr>\n",
       "      <th>3</th>\n",
       "      <td>3</td>\n",
       "      <td>4</td>\n",
       "    </tr>\n",
       "    <tr>\n",
       "      <th>4</th>\n",
       "      <td>2</td>\n",
       "      <td>2</td>\n",
       "    </tr>\n",
       "  </tbody>\n",
       "</table>\n",
       "</div>"
      ],
      "text/plain": [
       "   0  1\n",
       "0  6  3\n",
       "1  5  3\n",
       "2  2  4\n",
       "3  3  4\n",
       "4  2  2"
      ]
     },
     "execution_count": 2,
     "metadata": {},
     "output_type": "execute_result"
    }
   ],
   "source": [
    "outcomes = [1,2,3,4,5,6]\n",
    "sims = 100_000\n",
    "trials = 2\n",
    "\n",
    "rolls = pd.DataFrame(np.random.choice(outcomes, (sims, trials)))\n",
    "rolls.head()"
   ]
  },
  {
   "cell_type": "code",
   "execution_count": 3,
   "id": "6b2e8858-e327-4773-a3bd-6fe00fad10e9",
   "metadata": {},
   "outputs": [
    {
     "data": {
      "text/html": [
       "<div>\n",
       "<style scoped>\n",
       "    .dataframe tbody tr th:only-of-type {\n",
       "        vertical-align: middle;\n",
       "    }\n",
       "\n",
       "    .dataframe tbody tr th {\n",
       "        vertical-align: top;\n",
       "    }\n",
       "\n",
       "    .dataframe thead th {\n",
       "        text-align: right;\n",
       "    }\n",
       "</style>\n",
       "<table border=\"1\" class=\"dataframe\">\n",
       "  <thead>\n",
       "    <tr style=\"text-align: right;\">\n",
       "      <th></th>\n",
       "      <th>0</th>\n",
       "      <th>1</th>\n",
       "    </tr>\n",
       "  </thead>\n",
       "  <tbody>\n",
       "    <tr>\n",
       "      <th>4</th>\n",
       "      <td>2</td>\n",
       "      <td>2</td>\n",
       "    </tr>\n",
       "    <tr>\n",
       "      <th>17</th>\n",
       "      <td>5</td>\n",
       "      <td>5</td>\n",
       "    </tr>\n",
       "    <tr>\n",
       "      <th>24</th>\n",
       "      <td>3</td>\n",
       "      <td>3</td>\n",
       "    </tr>\n",
       "    <tr>\n",
       "      <th>27</th>\n",
       "      <td>4</td>\n",
       "      <td>4</td>\n",
       "    </tr>\n",
       "    <tr>\n",
       "      <th>38</th>\n",
       "      <td>2</td>\n",
       "      <td>2</td>\n",
       "    </tr>\n",
       "  </tbody>\n",
       "</table>\n",
       "</div>"
      ],
      "text/plain": [
       "    0  1\n",
       "4   2  2\n",
       "17  5  5\n",
       "24  3  3\n",
       "27  4  4\n",
       "38  2  2"
      ]
     },
     "execution_count": 3,
     "metadata": {},
     "output_type": "execute_result"
    }
   ],
   "source": [
    "doubles = rolls[rolls[0] == rolls[1]]\n",
    "doubles.head()"
   ]
  },
  {
   "cell_type": "code",
   "execution_count": 4,
   "id": "76803247-2594-4821-8022-a5c4e23daaf1",
   "metadata": {},
   "outputs": [
    {
     "data": {
      "text/plain": [
       "0.16497"
      ]
     },
     "execution_count": 4,
     "metadata": {},
     "output_type": "execute_result"
    }
   ],
   "source": [
    "len(doubles)/len(rolls)"
   ]
  },
  {
   "cell_type": "markdown",
   "id": "ff38a54f-1528-4ad3-b276-b6ac5c318f4a",
   "metadata": {},
   "source": [
    "##### 2. If you flip 8 coins, what is the probability of getting exactly 3 heads? What is the probability of getting more than 3 heads?"
   ]
  },
  {
   "cell_type": "code",
   "execution_count": 5,
   "id": "5b6f3623-8e1e-4df2-ba5e-c989921b4ea6",
   "metadata": {},
   "outputs": [
    {
     "data": {
      "text/html": [
       "<div>\n",
       "<style scoped>\n",
       "    .dataframe tbody tr th:only-of-type {\n",
       "        vertical-align: middle;\n",
       "    }\n",
       "\n",
       "    .dataframe tbody tr th {\n",
       "        vertical-align: top;\n",
       "    }\n",
       "\n",
       "    .dataframe thead th {\n",
       "        text-align: right;\n",
       "    }\n",
       "</style>\n",
       "<table border=\"1\" class=\"dataframe\">\n",
       "  <thead>\n",
       "    <tr style=\"text-align: right;\">\n",
       "      <th></th>\n",
       "      <th>0</th>\n",
       "      <th>1</th>\n",
       "      <th>2</th>\n",
       "      <th>3</th>\n",
       "      <th>4</th>\n",
       "      <th>5</th>\n",
       "      <th>6</th>\n",
       "      <th>7</th>\n",
       "    </tr>\n",
       "  </thead>\n",
       "  <tbody>\n",
       "    <tr>\n",
       "      <th>0</th>\n",
       "      <td>1</td>\n",
       "      <td>1</td>\n",
       "      <td>1</td>\n",
       "      <td>1</td>\n",
       "      <td>0</td>\n",
       "      <td>1</td>\n",
       "      <td>1</td>\n",
       "      <td>0</td>\n",
       "    </tr>\n",
       "    <tr>\n",
       "      <th>1</th>\n",
       "      <td>0</td>\n",
       "      <td>0</td>\n",
       "      <td>0</td>\n",
       "      <td>0</td>\n",
       "      <td>1</td>\n",
       "      <td>0</td>\n",
       "      <td>1</td>\n",
       "      <td>0</td>\n",
       "    </tr>\n",
       "    <tr>\n",
       "      <th>2</th>\n",
       "      <td>0</td>\n",
       "      <td>0</td>\n",
       "      <td>1</td>\n",
       "      <td>1</td>\n",
       "      <td>1</td>\n",
       "      <td>1</td>\n",
       "      <td>0</td>\n",
       "      <td>0</td>\n",
       "    </tr>\n",
       "    <tr>\n",
       "      <th>3</th>\n",
       "      <td>0</td>\n",
       "      <td>1</td>\n",
       "      <td>1</td>\n",
       "      <td>1</td>\n",
       "      <td>0</td>\n",
       "      <td>1</td>\n",
       "      <td>0</td>\n",
       "      <td>0</td>\n",
       "    </tr>\n",
       "    <tr>\n",
       "      <th>4</th>\n",
       "      <td>1</td>\n",
       "      <td>1</td>\n",
       "      <td>0</td>\n",
       "      <td>1</td>\n",
       "      <td>0</td>\n",
       "      <td>0</td>\n",
       "      <td>1</td>\n",
       "      <td>0</td>\n",
       "    </tr>\n",
       "  </tbody>\n",
       "</table>\n",
       "</div>"
      ],
      "text/plain": [
       "   0  1  2  3  4  5  6  7\n",
       "0  1  1  1  1  0  1  1  0\n",
       "1  0  0  0  0  1  0  1  0\n",
       "2  0  0  1  1  1  1  0  0\n",
       "3  0  1  1  1  0  1  0  0\n",
       "4  1  1  0  1  0  0  1  0"
      ]
     },
     "execution_count": 5,
     "metadata": {},
     "output_type": "execute_result"
    }
   ],
   "source": [
    "#heads is 1, tails is 0\n",
    "outcomes = [0, 1]\n",
    "sims = 100_000\n",
    "trials = 8\n",
    "\n",
    "flips = pd.DataFrame(np.random.choice(outcomes, (sims, trials)))\n",
    "flips.head()"
   ]
  },
  {
   "cell_type": "code",
   "execution_count": 6,
   "id": "e2b07347-3671-4c74-b6a1-f4089b67f5a7",
   "metadata": {},
   "outputs": [
    {
     "data": {
      "text/plain": [
       "0    6\n",
       "1    2\n",
       "2    4\n",
       "3    4\n",
       "4    4\n",
       "dtype: int64"
      ]
     },
     "execution_count": 6,
     "metadata": {},
     "output_type": "execute_result"
    }
   ],
   "source": [
    "heads = flips.sum(axis=1)\n",
    "heads.head()"
   ]
  },
  {
   "cell_type": "code",
   "execution_count": 7,
   "id": "2407cdca-7070-48e8-be4f-99a9090bee1b",
   "metadata": {},
   "outputs": [
    {
     "data": {
      "text/plain": [
       "0.21941"
      ]
     },
     "execution_count": 7,
     "metadata": {},
     "output_type": "execute_result"
    }
   ],
   "source": [
    "# Prob of getting exactly 3 heads\n",
    "(heads == 3).mean()"
   ]
  },
  {
   "cell_type": "code",
   "execution_count": 8,
   "id": "c3af9196-66f4-427d-81ae-50239d225647",
   "metadata": {},
   "outputs": [
    {
     "data": {
      "text/plain": [
       "0.63587"
      ]
     },
     "execution_count": 8,
     "metadata": {},
     "output_type": "execute_result"
    }
   ],
   "source": [
    "# Prob of getting more than 3 heads\n",
    "(heads > 3).mean()"
   ]
  },
  {
   "cell_type": "markdown",
   "id": "e8da168a-180f-4d30-bc9e-8dfd86041f3f",
   "metadata": {},
   "source": [
    "##### 3. There are approximitely 3 web development cohorts for every 1 data science cohort at Codeup. Assuming that Codeup randomly selects an alumni to put on a billboard, what are the odds that the two billboards I drive past both have data science students on them?"
   ]
  },
  {
   "cell_type": "code",
   "execution_count": 9,
   "id": "8af346c9-ca0a-4e80-9244-b553a22a52d2",
   "metadata": {},
   "outputs": [
    {
     "data": {
      "text/plain": [
       "array([[0.66709312, 0.42710373],\n",
       "       [0.33057295, 0.67663041],\n",
       "       [0.95454716, 0.23843883],\n",
       "       ...,\n",
       "       [0.98317484, 0.42999776],\n",
       "       [0.12575455, 0.79328537],\n",
       "       [0.17391215, 0.73017972]])"
      ]
     },
     "execution_count": 9,
     "metadata": {},
     "output_type": "execute_result"
    }
   ],
   "source": [
    "webd = .75\n",
    "ds = .25\n",
    "bbs = 2\n",
    "sims = 100_000\n",
    "\n",
    "data = np.random.random((sims, bbs))\n",
    "data"
   ]
  },
  {
   "cell_type": "code",
   "execution_count": 10,
   "id": "49c747b7-a107-43ab-9a03-56c473a0e9dc",
   "metadata": {},
   "outputs": [
    {
     "data": {
      "text/plain": [
       "array([0, 0, 1, ..., 0, 1, 1])"
      ]
     },
     "execution_count": 10,
     "metadata": {},
     "output_type": "execute_result"
    }
   ],
   "source": [
    "ds_bbs = (data < ds).sum(axis=1)\n",
    "ds_bbs"
   ]
  },
  {
   "cell_type": "code",
   "execution_count": 11,
   "id": "7583fe7e-2eee-4cf4-ac9f-9ec8310908f4",
   "metadata": {},
   "outputs": [
    {
     "data": {
      "text/plain": [
       "0.0628"
      ]
     },
     "execution_count": 11,
     "metadata": {},
     "output_type": "execute_result"
    }
   ],
   "source": [
    "# Prob of seeing ds on both bbs\n",
    "(ds_bbs == 2).mean()"
   ]
  },
  {
   "cell_type": "markdown",
   "id": "2a4e57d6-8815-430b-a6d6-2db5ab27d3ac",
   "metadata": {},
   "source": [
    "##### 4. Codeup students buy, on average, 3 poptart packages with a standard deviation of 1.5 a day from the snack vending machine. If on monday the machine is restocked with 17 poptart packages, how likely is it that I will be able to buy some poptarts on Friday afternoon? (Remember, if you have mean and standard deviation, use the np.random.normal) You'll need to make a judgement call on how to handle some of your values"
   ]
  },
  {
   "cell_type": "code",
   "execution_count": 12,
   "id": "160f4532-a9ad-4a9b-b4c8-29ad6582a1b7",
   "metadata": {},
   "outputs": [
    {
     "data": {
      "text/plain": [
       "array([[2.96117887, 3.45139455, 2.6007879 , 5.9429666 , 2.20910624],\n",
       "       [4.25520356, 2.01038827, 4.36264899, 2.43993081, 0.6717857 ],\n",
       "       [1.15751801, 5.73443845, 1.1101382 , 3.74108509, 3.68014603],\n",
       "       ...,\n",
       "       [3.50405041, 2.2593171 , 0.57255717, 0.78678162, 3.05013477],\n",
       "       [0.34122777, 1.86955328, 1.6996945 , 1.77126512, 4.18491559],\n",
       "       [2.32429642, 3.4017029 , 3.54669039, 3.00191907, 1.47549027]])"
      ]
     },
     "execution_count": 12,
     "metadata": {},
     "output_type": "execute_result"
    }
   ],
   "source": [
    "u = 3\n",
    "sd = 1.5\n",
    "stock = 17\n",
    "days = 5\n",
    "sims = 100_000\n",
    "\n",
    "consumed = np.random.normal(3, 1.5, (sims, days))\n",
    "consumed"
   ]
  },
  {
   "cell_type": "code",
   "execution_count": 13,
   "id": "2ad74ab0-3997-4d2c-82e3-bba791595a74",
   "metadata": {},
   "outputs": [
    {
     "data": {
      "text/plain": [
       "array([17.16543416, 13.73995733, 15.42332579, ..., 10.17284107,\n",
       "        9.86665627, 13.75009904])"
      ]
     },
     "execution_count": 13,
     "metadata": {},
     "output_type": "execute_result"
    }
   ],
   "source": [
    "week_consumed = (consumed.sum(axis=1))\n",
    "week_consumed"
   ]
  },
  {
   "cell_type": "code",
   "execution_count": 14,
   "id": "656c9e98-acd1-49e8-8d27-48220b28c56d",
   "metadata": {},
   "outputs": [
    {
     "data": {
      "text/plain": [
       "0.72526"
      ]
     },
     "execution_count": 14,
     "metadata": {},
     "output_type": "execute_result"
    }
   ],
   "source": [
    "# Prob of less than 17 packages bought any given week\n",
    "(week_consumed < 17).mean()"
   ]
  },
  {
   "cell_type": "markdown",
   "id": "2d2553da-a035-46fe-a7fc-3fd5049af6d4",
   "metadata": {},
   "source": [
    "##### 5. Compare Heights\n",
    "##### 5.a Men have an average height of 178 cm and standard deviation of 8cm."
   ]
  },
  {
   "cell_type": "code",
   "execution_count": 15,
   "id": "de0d684e-bf92-4ea4-9d94-503778c10068",
   "metadata": {},
   "outputs": [],
   "source": [
    "u_men = 178\n",
    "sd_men = 8"
   ]
  },
  {
   "cell_type": "markdown",
   "id": "ec0fec20-c58c-448d-aeee-5df4225fb5be",
   "metadata": {},
   "source": [
    "##### 5.b Women have a mean of 170, sd = 6cm."
   ]
  },
  {
   "cell_type": "code",
   "execution_count": 16,
   "id": "a3bb6712-7656-4b8a-8ee2-b8df6793e2c5",
   "metadata": {},
   "outputs": [],
   "source": [
    "u_women = 170\n",
    "sd_women = 6"
   ]
  },
  {
   "cell_type": "markdown",
   "id": "2a15bb94-6aef-4f74-bcb1-554f70774e5c",
   "metadata": {},
   "source": [
    "##### 5.c Since you have means and standard deviations, you can use np.random.normal to generate observations."
   ]
  },
  {
   "cell_type": "code",
   "execution_count": 17,
   "id": "2614f16a-6769-4822-9003-8e6f29e8da82",
   "metadata": {},
   "outputs": [],
   "source": [
    "sims = 100_000\n",
    "men_obs = np.random.normal(u_men, sd_men, sims)\n",
    "women_obs = np.random.normal(u_women, sd_women, sims)"
   ]
  },
  {
   "cell_type": "markdown",
   "id": "cee855f3-8372-4a26-8366-1ef65c05961d",
   "metadata": {},
   "source": [
    "##### 5.d If a man and woman are chosen at random, what is the likelihood the woman is taller than the man?"
   ]
  },
  {
   "cell_type": "code",
   "execution_count": 18,
   "id": "20ef2d4b-b09d-42d5-a577-34774825bc43",
   "metadata": {},
   "outputs": [
    {
     "data": {
      "text/plain": [
       "0.20925"
      ]
     },
     "execution_count": 18,
     "metadata": {},
     "output_type": "execute_result"
    }
   ],
   "source": [
    "(men_obs < women_obs).mean()"
   ]
  },
  {
   "cell_type": "markdown",
   "id": "ab176cec-c0c9-441b-b81a-801b3030102e",
   "metadata": {},
   "source": [
    "##### 6.a When installing anaconda on a student's computer, there's a 1 in 250 chance that the download is corrupted and the installation fails. What are the odds that after having 50 students download anaconda, no one has an installation issue? "
   ]
  },
  {
   "cell_type": "code",
   "execution_count": 19,
   "id": "50771cda-1069-405d-9151-8970d28d255b",
   "metadata": {},
   "outputs": [
    {
     "data": {
      "text/plain": [
       "array([[0.67327138, 0.13390658, 0.60859599, ..., 0.66149634, 0.66944186,\n",
       "        0.96790529],\n",
       "       [0.25974514, 0.24519503, 0.91133252, ..., 0.4388001 , 0.69169291,\n",
       "        0.02896595],\n",
       "       [0.1427483 , 0.48222374, 0.23539917, ..., 0.22080711, 0.12014537,\n",
       "        0.33200168],\n",
       "       ...,\n",
       "       [0.04956946, 0.65911548, 0.2391812 , ..., 0.00965693, 0.29725735,\n",
       "        0.46174351],\n",
       "       [0.98940418, 0.14085637, 0.13810032, ..., 0.60721196, 0.2898249 ,\n",
       "        0.30687426],\n",
       "       [0.04753578, 0.40098813, 0.00582251, ..., 0.54615585, 0.56283786,\n",
       "        0.99785016]])"
      ]
     },
     "execution_count": 19,
     "metadata": {},
     "output_type": "execute_result"
    }
   ],
   "source": [
    "sims = 100_000\n",
    "students = 50\n",
    "corrupted = 1/250\n",
    "\n",
    "installs = np.random.random((sims, students))\n",
    "installs"
   ]
  },
  {
   "cell_type": "code",
   "execution_count": 20,
   "id": "20e8d582-1554-4e6c-a073-8d058bbf94e7",
   "metadata": {},
   "outputs": [
    {
     "data": {
      "text/plain": [
       "array([0, 1, 1, ..., 0, 0, 0])"
      ]
     },
     "execution_count": 20,
     "metadata": {},
     "output_type": "execute_result"
    }
   ],
   "source": [
    "fails = (installs < corrupted).sum(axis=1)\n",
    "fails"
   ]
  },
  {
   "cell_type": "code",
   "execution_count": 21,
   "id": "a8ce91a0-fb4e-43ad-978a-7921a9e57072",
   "metadata": {},
   "outputs": [
    {
     "data": {
      "text/plain": [
       "0.81928"
      ]
     },
     "execution_count": 21,
     "metadata": {},
     "output_type": "execute_result"
    }
   ],
   "source": [
    "# Prob of no download fails:\n",
    "(fails == 0).mean()"
   ]
  },
  {
   "cell_type": "markdown",
   "id": "85aaeb59-8b49-4f79-b284-7035f12acc2a",
   "metadata": {},
   "source": [
    "##### 6.b 100 students?"
   ]
  },
  {
   "cell_type": "code",
   "execution_count": 22,
   "id": "432574c4-92ca-4e8f-9499-0b07aef3d388",
   "metadata": {},
   "outputs": [
    {
     "data": {
      "text/plain": [
       "0.66675"
      ]
     },
     "execution_count": 22,
     "metadata": {},
     "output_type": "execute_result"
    }
   ],
   "source": [
    "sims = 100_000\n",
    "students = 100\n",
    "corrupted = 1/250\n",
    "\n",
    "installs = np.random.random((sims, students))\n",
    "fails = (installs < corrupted).sum(axis=1)\n",
    "(fails == 0).mean()"
   ]
  },
  {
   "cell_type": "markdown",
   "id": "a77054c8-ff97-491b-8c0f-be5bf52458be",
   "metadata": {},
   "source": [
    "##### 6.c What is the probability that we observe an installation issue within the first 150 students that download anaconda?"
   ]
  },
  {
   "cell_type": "code",
   "execution_count": 23,
   "id": "c79fc988-bb07-41d7-9493-d77733b3d221",
   "metadata": {},
   "outputs": [
    {
     "data": {
      "text/plain": [
       "0.0"
      ]
     },
     "execution_count": 23,
     "metadata": {},
     "output_type": "execute_result"
    }
   ],
   "source": [
    "sims = 1\n",
    "students = 150\n",
    "corrupted = 1/250\n",
    "\n",
    "installs = np.random.random((sims, students))\n",
    "fails = (installs < corrupted).sum(axis=1)\n",
    "(fails == 0).mean()"
   ]
  },
  {
   "cell_type": "markdown",
   "id": "491fa6c5-94da-4d02-8d67-d03dd2746cdb",
   "metadata": {},
   "source": [
    "##### 6.d How likely is it that 450 students all download anaconda without an issue?"
   ]
  },
  {
   "cell_type": "code",
   "execution_count": 24,
   "id": "56338aec-e127-4410-939f-23be49e56022",
   "metadata": {},
   "outputs": [
    {
     "data": {
      "text/plain": [
       "0.16421"
      ]
     },
     "execution_count": 24,
     "metadata": {},
     "output_type": "execute_result"
    }
   ],
   "source": [
    "sims = 100_000\n",
    "students = 450\n",
    "corrupted = 1/250\n",
    "\n",
    "installs = np.random.random((sims, students))\n",
    "fails = (installs < corrupted).sum(axis=1)\n",
    "(fails == 0).mean()"
   ]
  },
  {
   "cell_type": "markdown",
   "id": "6d900be3-0146-4008-9fa4-e45019a37cce",
   "metadata": {},
   "source": [
    "##### 7. There's a 70% chance on any given day that there will be at least one food truck at Travis Park. However, you haven't seen a food truck there in 3 days. How unlikely is this?"
   ]
  },
  {
   "cell_type": "code",
   "execution_count": 25,
   "id": "89ede9a7-4a49-40e2-aaf4-b5c609dad6c6",
   "metadata": {},
   "outputs": [
    {
     "data": {
      "text/plain": [
       "0.02733"
      ]
     },
     "execution_count": 25,
     "metadata": {},
     "output_type": "execute_result"
    }
   ],
   "source": [
    "sims = 100_000\n",
    "truck_show = .7\n",
    "days = 3\n",
    "\n",
    "data = np.random.random((sims, days))\n",
    "truck_no_show = (data > truck_show).sum(axis=1)\n",
    "(truck_no_show == 3).mean()"
   ]
  },
  {
   "cell_type": "markdown",
   "id": "e442dce4-4b1b-4125-a5b6-8c30da2d68a7",
   "metadata": {},
   "source": [
    "##### 7.b How likely is it that a food truck will show up sometime this week?"
   ]
  },
  {
   "cell_type": "code",
   "execution_count": 26,
   "id": "4bb78c1d-336f-4d95-810c-1d1c04d69111",
   "metadata": {},
   "outputs": [
    {
     "data": {
      "text/plain": [
       "0.99978"
      ]
     },
     "execution_count": 26,
     "metadata": {},
     "output_type": "execute_result"
    }
   ],
   "source": [
    "sims = 100_000\n",
    "truck_show = .7\n",
    "days = 7\n",
    "\n",
    "data = np.random.random((sims, days))\n",
    "truck_no_show = (data > truck_show).sum(axis=1)\n",
    "(truck_no_show < 7).mean()"
   ]
  },
  {
   "cell_type": "markdown",
   "id": "13b4423a-49fb-4c3a-8847-3291762b6696",
   "metadata": {},
   "source": [
    "##### 8. If 23 people are in the same room, what are the odds that two of them share a birthday? What if it's 20 people? 40?"
   ]
  },
  {
   "cell_type": "code",
   "execution_count": 27,
   "id": "696d95be-360e-41c6-83e8-ef8a8cfbdbe9",
   "metadata": {},
   "outputs": [
    {
     "data": {
      "text/html": [
       "<div>\n",
       "<style scoped>\n",
       "    .dataframe tbody tr th:only-of-type {\n",
       "        vertical-align: middle;\n",
       "    }\n",
       "\n",
       "    .dataframe tbody tr th {\n",
       "        vertical-align: top;\n",
       "    }\n",
       "\n",
       "    .dataframe thead th {\n",
       "        text-align: right;\n",
       "    }\n",
       "</style>\n",
       "<table border=\"1\" class=\"dataframe\">\n",
       "  <thead>\n",
       "    <tr style=\"text-align: right;\">\n",
       "      <th></th>\n",
       "      <th>0</th>\n",
       "      <th>1</th>\n",
       "      <th>2</th>\n",
       "      <th>3</th>\n",
       "      <th>4</th>\n",
       "      <th>5</th>\n",
       "      <th>6</th>\n",
       "      <th>7</th>\n",
       "      <th>8</th>\n",
       "      <th>9</th>\n",
       "      <th>...</th>\n",
       "      <th>13</th>\n",
       "      <th>14</th>\n",
       "      <th>15</th>\n",
       "      <th>16</th>\n",
       "      <th>17</th>\n",
       "      <th>18</th>\n",
       "      <th>19</th>\n",
       "      <th>20</th>\n",
       "      <th>21</th>\n",
       "      <th>22</th>\n",
       "    </tr>\n",
       "  </thead>\n",
       "  <tbody>\n",
       "    <tr>\n",
       "      <th>0</th>\n",
       "      <td>90</td>\n",
       "      <td>85</td>\n",
       "      <td>289</td>\n",
       "      <td>327</td>\n",
       "      <td>128</td>\n",
       "      <td>236</td>\n",
       "      <td>109</td>\n",
       "      <td>148</td>\n",
       "      <td>232</td>\n",
       "      <td>63</td>\n",
       "      <td>...</td>\n",
       "      <td>281</td>\n",
       "      <td>16</td>\n",
       "      <td>298</td>\n",
       "      <td>127</td>\n",
       "      <td>110</td>\n",
       "      <td>226</td>\n",
       "      <td>42</td>\n",
       "      <td>158</td>\n",
       "      <td>140</td>\n",
       "      <td>116</td>\n",
       "    </tr>\n",
       "    <tr>\n",
       "      <th>1</th>\n",
       "      <td>104</td>\n",
       "      <td>110</td>\n",
       "      <td>113</td>\n",
       "      <td>166</td>\n",
       "      <td>1</td>\n",
       "      <td>17</td>\n",
       "      <td>183</td>\n",
       "      <td>240</td>\n",
       "      <td>236</td>\n",
       "      <td>341</td>\n",
       "      <td>...</td>\n",
       "      <td>268</td>\n",
       "      <td>275</td>\n",
       "      <td>124</td>\n",
       "      <td>167</td>\n",
       "      <td>324</td>\n",
       "      <td>232</td>\n",
       "      <td>131</td>\n",
       "      <td>234</td>\n",
       "      <td>24</td>\n",
       "      <td>101</td>\n",
       "    </tr>\n",
       "    <tr>\n",
       "      <th>2</th>\n",
       "      <td>318</td>\n",
       "      <td>306</td>\n",
       "      <td>250</td>\n",
       "      <td>219</td>\n",
       "      <td>205</td>\n",
       "      <td>117</td>\n",
       "      <td>192</td>\n",
       "      <td>65</td>\n",
       "      <td>338</td>\n",
       "      <td>259</td>\n",
       "      <td>...</td>\n",
       "      <td>1</td>\n",
       "      <td>69</td>\n",
       "      <td>61</td>\n",
       "      <td>323</td>\n",
       "      <td>330</td>\n",
       "      <td>239</td>\n",
       "      <td>171</td>\n",
       "      <td>229</td>\n",
       "      <td>138</td>\n",
       "      <td>312</td>\n",
       "    </tr>\n",
       "    <tr>\n",
       "      <th>3</th>\n",
       "      <td>79</td>\n",
       "      <td>144</td>\n",
       "      <td>249</td>\n",
       "      <td>257</td>\n",
       "      <td>40</td>\n",
       "      <td>185</td>\n",
       "      <td>108</td>\n",
       "      <td>247</td>\n",
       "      <td>289</td>\n",
       "      <td>182</td>\n",
       "      <td>...</td>\n",
       "      <td>93</td>\n",
       "      <td>358</td>\n",
       "      <td>74</td>\n",
       "      <td>23</td>\n",
       "      <td>202</td>\n",
       "      <td>90</td>\n",
       "      <td>62</td>\n",
       "      <td>138</td>\n",
       "      <td>109</td>\n",
       "      <td>194</td>\n",
       "    </tr>\n",
       "    <tr>\n",
       "      <th>4</th>\n",
       "      <td>56</td>\n",
       "      <td>328</td>\n",
       "      <td>109</td>\n",
       "      <td>336</td>\n",
       "      <td>196</td>\n",
       "      <td>196</td>\n",
       "      <td>277</td>\n",
       "      <td>358</td>\n",
       "      <td>182</td>\n",
       "      <td>303</td>\n",
       "      <td>...</td>\n",
       "      <td>275</td>\n",
       "      <td>290</td>\n",
       "      <td>329</td>\n",
       "      <td>247</td>\n",
       "      <td>293</td>\n",
       "      <td>211</td>\n",
       "      <td>47</td>\n",
       "      <td>307</td>\n",
       "      <td>297</td>\n",
       "      <td>54</td>\n",
       "    </tr>\n",
       "    <tr>\n",
       "      <th>...</th>\n",
       "      <td>...</td>\n",
       "      <td>...</td>\n",
       "      <td>...</td>\n",
       "      <td>...</td>\n",
       "      <td>...</td>\n",
       "      <td>...</td>\n",
       "      <td>...</td>\n",
       "      <td>...</td>\n",
       "      <td>...</td>\n",
       "      <td>...</td>\n",
       "      <td>...</td>\n",
       "      <td>...</td>\n",
       "      <td>...</td>\n",
       "      <td>...</td>\n",
       "      <td>...</td>\n",
       "      <td>...</td>\n",
       "      <td>...</td>\n",
       "      <td>...</td>\n",
       "      <td>...</td>\n",
       "      <td>...</td>\n",
       "      <td>...</td>\n",
       "    </tr>\n",
       "    <tr>\n",
       "      <th>99995</th>\n",
       "      <td>364</td>\n",
       "      <td>275</td>\n",
       "      <td>261</td>\n",
       "      <td>342</td>\n",
       "      <td>294</td>\n",
       "      <td>180</td>\n",
       "      <td>157</td>\n",
       "      <td>174</td>\n",
       "      <td>335</td>\n",
       "      <td>154</td>\n",
       "      <td>...</td>\n",
       "      <td>290</td>\n",
       "      <td>294</td>\n",
       "      <td>50</td>\n",
       "      <td>149</td>\n",
       "      <td>266</td>\n",
       "      <td>162</td>\n",
       "      <td>186</td>\n",
       "      <td>352</td>\n",
       "      <td>190</td>\n",
       "      <td>54</td>\n",
       "    </tr>\n",
       "    <tr>\n",
       "      <th>99996</th>\n",
       "      <td>102</td>\n",
       "      <td>189</td>\n",
       "      <td>346</td>\n",
       "      <td>305</td>\n",
       "      <td>185</td>\n",
       "      <td>340</td>\n",
       "      <td>34</td>\n",
       "      <td>115</td>\n",
       "      <td>246</td>\n",
       "      <td>141</td>\n",
       "      <td>...</td>\n",
       "      <td>27</td>\n",
       "      <td>109</td>\n",
       "      <td>320</td>\n",
       "      <td>117</td>\n",
       "      <td>67</td>\n",
       "      <td>50</td>\n",
       "      <td>107</td>\n",
       "      <td>10</td>\n",
       "      <td>36</td>\n",
       "      <td>70</td>\n",
       "    </tr>\n",
       "    <tr>\n",
       "      <th>99997</th>\n",
       "      <td>235</td>\n",
       "      <td>297</td>\n",
       "      <td>9</td>\n",
       "      <td>59</td>\n",
       "      <td>120</td>\n",
       "      <td>88</td>\n",
       "      <td>178</td>\n",
       "      <td>302</td>\n",
       "      <td>179</td>\n",
       "      <td>122</td>\n",
       "      <td>...</td>\n",
       "      <td>225</td>\n",
       "      <td>24</td>\n",
       "      <td>352</td>\n",
       "      <td>351</td>\n",
       "      <td>355</td>\n",
       "      <td>149</td>\n",
       "      <td>156</td>\n",
       "      <td>214</td>\n",
       "      <td>247</td>\n",
       "      <td>347</td>\n",
       "    </tr>\n",
       "    <tr>\n",
       "      <th>99998</th>\n",
       "      <td>35</td>\n",
       "      <td>108</td>\n",
       "      <td>45</td>\n",
       "      <td>69</td>\n",
       "      <td>285</td>\n",
       "      <td>221</td>\n",
       "      <td>190</td>\n",
       "      <td>60</td>\n",
       "      <td>193</td>\n",
       "      <td>19</td>\n",
       "      <td>...</td>\n",
       "      <td>93</td>\n",
       "      <td>224</td>\n",
       "      <td>349</td>\n",
       "      <td>216</td>\n",
       "      <td>332</td>\n",
       "      <td>64</td>\n",
       "      <td>240</td>\n",
       "      <td>54</td>\n",
       "      <td>233</td>\n",
       "      <td>13</td>\n",
       "    </tr>\n",
       "    <tr>\n",
       "      <th>99999</th>\n",
       "      <td>26</td>\n",
       "      <td>346</td>\n",
       "      <td>225</td>\n",
       "      <td>144</td>\n",
       "      <td>99</td>\n",
       "      <td>196</td>\n",
       "      <td>1</td>\n",
       "      <td>195</td>\n",
       "      <td>322</td>\n",
       "      <td>28</td>\n",
       "      <td>...</td>\n",
       "      <td>286</td>\n",
       "      <td>34</td>\n",
       "      <td>269</td>\n",
       "      <td>284</td>\n",
       "      <td>319</td>\n",
       "      <td>204</td>\n",
       "      <td>93</td>\n",
       "      <td>207</td>\n",
       "      <td>171</td>\n",
       "      <td>259</td>\n",
       "    </tr>\n",
       "  </tbody>\n",
       "</table>\n",
       "<p>100000 rows × 23 columns</p>\n",
       "</div>"
      ],
      "text/plain": [
       "        0    1    2    3    4    5    6    7    8    9   ...   13   14   15  \\\n",
       "0       90   85  289  327  128  236  109  148  232   63  ...  281   16  298   \n",
       "1      104  110  113  166    1   17  183  240  236  341  ...  268  275  124   \n",
       "2      318  306  250  219  205  117  192   65  338  259  ...    1   69   61   \n",
       "3       79  144  249  257   40  185  108  247  289  182  ...   93  358   74   \n",
       "4       56  328  109  336  196  196  277  358  182  303  ...  275  290  329   \n",
       "...    ...  ...  ...  ...  ...  ...  ...  ...  ...  ...  ...  ...  ...  ...   \n",
       "99995  364  275  261  342  294  180  157  174  335  154  ...  290  294   50   \n",
       "99996  102  189  346  305  185  340   34  115  246  141  ...   27  109  320   \n",
       "99997  235  297    9   59  120   88  178  302  179  122  ...  225   24  352   \n",
       "99998   35  108   45   69  285  221  190   60  193   19  ...   93  224  349   \n",
       "99999   26  346  225  144   99  196    1  195  322   28  ...  286   34  269   \n",
       "\n",
       "        16   17   18   19   20   21   22  \n",
       "0      127  110  226   42  158  140  116  \n",
       "1      167  324  232  131  234   24  101  \n",
       "2      323  330  239  171  229  138  312  \n",
       "3       23  202   90   62  138  109  194  \n",
       "4      247  293  211   47  307  297   54  \n",
       "...    ...  ...  ...  ...  ...  ...  ...  \n",
       "99995  149  266  162  186  352  190   54  \n",
       "99996  117   67   50  107   10   36   70  \n",
       "99997  351  355  149  156  214  247  347  \n",
       "99998  216  332   64  240   54  233   13  \n",
       "99999  284  319  204   93  207  171  259  \n",
       "\n",
       "[100000 rows x 23 columns]"
      ]
     },
     "execution_count": 27,
     "metadata": {},
     "output_type": "execute_result"
    }
   ],
   "source": [
    "sims = 100_000\n",
    "days = range(365)\n",
    "people = 23\n",
    "\n",
    "birthdays = pd.DataFrame(np.random.choice(days, (sims, people)))\n",
    "birthdays"
   ]
  },
  {
   "cell_type": "code",
   "execution_count": 28,
   "id": "51b5d852-de9c-4cf5-ad1c-41d3ba1a72dd",
   "metadata": {},
   "outputs": [],
   "source": [
    "def doubles(b):\n",
    "    if len(b) > len(b.unique()):\n",
    "        return True\n",
    "    return False"
   ]
  },
  {
   "cell_type": "code",
   "execution_count": 29,
   "id": "c3c58376-2292-4507-8b0c-9cafcf58aea0",
   "metadata": {},
   "outputs": [],
   "source": [
    "doubs = birthdays.apply(doubles, axis=1)"
   ]
  },
  {
   "cell_type": "code",
   "execution_count": 30,
   "id": "f8e3ce00-22d1-408d-a153-976155296a1e",
   "metadata": {},
   "outputs": [
    {
     "data": {
      "text/plain": [
       "0.50546"
      ]
     },
     "execution_count": 30,
     "metadata": {},
     "output_type": "execute_result"
    }
   ],
   "source": [
    "(doubs == True).mean()"
   ]
  },
  {
   "cell_type": "code",
   "execution_count": 31,
   "id": "62c2d83a-21d4-41fa-be20-c59fed975fe4",
   "metadata": {},
   "outputs": [
    {
     "data": {
      "text/plain": [
       "0.40965"
      ]
     },
     "execution_count": 31,
     "metadata": {},
     "output_type": "execute_result"
    }
   ],
   "source": [
    "#20 people\n",
    "sims = 100_000\n",
    "days = range(365)\n",
    "people = 20\n",
    "\n",
    "birthdays = pd.DataFrame(np.random.choice(days, (sims, people)))\n",
    "doubs = birthdays.apply(doubles, axis=1)\n",
    "(doubs == True).mean()"
   ]
  },
  {
   "cell_type": "code",
   "execution_count": 32,
   "id": "c38b5834-c477-4795-85ba-2e90fbb2e062",
   "metadata": {},
   "outputs": [
    {
     "data": {
      "text/plain": [
       "0.89219"
      ]
     },
     "execution_count": 32,
     "metadata": {},
     "output_type": "execute_result"
    }
   ],
   "source": [
    "#40 people\n",
    "sims = 100_000\n",
    "days = range(365)\n",
    "people = 40\n",
    "\n",
    "birthdays = pd.DataFrame(np.random.choice(days, (sims, people)))\n",
    "doubs = birthdays.apply(doubles, axis=1)\n",
    "(doubs == True).mean()"
   ]
  },
  {
   "cell_type": "markdown",
   "id": "525cf1b9-a8f6-412a-9649-657f079aaac1",
   "metadata": {
    "tags": []
   },
   "source": [
    "#### BONUS: Mage Dual"
   ]
  },
  {
   "cell_type": "markdown",
   "id": "a8bcb660-eba8-47c8-b9aa-477a948cf0fc",
   "metadata": {
    "jp-MarkdownHeadingCollapsed": true,
    "tags": []
   },
   "source": [
    "##### Let's use what we've learned to play a mage duel!\n",
    "##### Imagine your wizard has 6d4 health points and you have spells that do 6d4 damage. \"6d4\" means rolling six 4-sided dice and summing the result.\n",
    "##### Your opposing mage has 4d6 health points and spells that do 4d6. \"4d6\" means rolling four six-sided dice and summing the result."
   ]
  },
  {
   "cell_type": "markdown",
   "id": "fbf3eeaa-9b32-482d-b336-9051d04a75c2",
   "metadata": {
    "tags": []
   },
   "source": [
    "#### Exercises\n",
    "##### Simulate mage duels to answer who is the more powerful mage?\n",
    "##### Before running simulations, do you have a hypothesis of which mage will win? Do you have a hunch? Write it down. This is your first exercise."
   ]
  },
  {
   "cell_type": "code",
   "execution_count": 33,
   "id": "b7b96f17-3a6d-4255-ab66-689bab9cffec",
   "metadata": {},
   "outputs": [],
   "source": [
    "# 6d4"
   ]
  },
  {
   "cell_type": "markdown",
   "id": "83807c19-8d91-4a17-8d52-1bda2c5de121",
   "metadata": {},
   "source": [
    "##### Simulate 10 mage duels. Is there a clear winner? Run that 10 duel simulation again. Was the answer similar?"
   ]
  },
  {
   "cell_type": "code",
   "execution_count": 34,
   "id": "0adcba32-434b-464d-af36-9b169c95ce93",
   "metadata": {},
   "outputs": [
    {
     "data": {
      "text/plain": [
       "0.6"
      ]
     },
     "execution_count": 34,
     "metadata": {},
     "output_type": "execute_result"
    }
   ],
   "source": [
    "duals = 10\n",
    "d4_outcomes = [1,2,3,4]\n",
    "d4_throw = 6\n",
    "\n",
    "d6_outcomes = [1,2,3,4,5,6]\n",
    "d6_throw = 4\n",
    "\n",
    "d4_damage = np.random.choice(d4_outcomes, (duals, d4_throw))\n",
    "d6_damage = np.random.choice(d6_outcomes, (duals, d6_throw))\n",
    "\n",
    "d4_wins = d4_damage.sum(axis=1) > d6_damage.sum(axis=1)\n",
    "(d4_wins).mean()"
   ]
  },
  {
   "cell_type": "markdown",
   "id": "4f8b65e5-6427-4129-9a55-f1c5ebe4a61f",
   "metadata": {},
   "source": [
    "##### Do the results change much at 100 duels?"
   ]
  },
  {
   "cell_type": "code",
   "execution_count": 35,
   "id": "718f7fa9-bbea-4e74-a8d5-8dc23bcc6b71",
   "metadata": {},
   "outputs": [
    {
     "data": {
      "text/plain": [
       "0.59"
      ]
     },
     "execution_count": 35,
     "metadata": {},
     "output_type": "execute_result"
    }
   ],
   "source": [
    "duals = 100\n",
    "d4_outcomes = [1,2,3,4]\n",
    "d4_throw = 6\n",
    "\n",
    "d6_outcomes = [1,2,3,4,5,6]\n",
    "d6_throw = 4\n",
    "\n",
    "d4_damage = np.random.choice(d4_outcomes, (duals, d4_throw))\n",
    "d6_damage = np.random.choice(d6_outcomes, (duals, d6_throw))\n",
    "\n",
    "d4_wins = d4_damage.sum(axis=1) > d6_damage.sum(axis=1)\n",
    "(d4_wins).mean()"
   ]
  },
  {
   "cell_type": "markdown",
   "id": "bb83b872-4d1c-47d9-ac9f-a227608871b4",
   "metadata": {},
   "source": [
    "##### Now, simulate 10,000 mage duels. Is there a clear winner?"
   ]
  },
  {
   "cell_type": "code",
   "execution_count": 36,
   "id": "b6e5caa1-a2b1-42ce-949a-99c4bf66282d",
   "metadata": {},
   "outputs": [
    {
     "data": {
      "text/plain": [
       "0.5448"
      ]
     },
     "execution_count": 36,
     "metadata": {},
     "output_type": "execute_result"
    }
   ],
   "source": [
    "duals = 10_000\n",
    "d4_outcomes = [1,2,3,4]\n",
    "d4_throw = 6\n",
    "\n",
    "d6_outcomes = [1,2,3,4,5,6]\n",
    "d6_throw = 4\n",
    "\n",
    "d4_damage = np.random.choice(d4_outcomes, (duals, d4_throw))\n",
    "d6_damage = np.random.choice(d6_outcomes, (duals, d6_throw))\n",
    "\n",
    "d4_wins = d4_damage.sum(axis=1) > d6_damage.sum(axis=1)\n",
    "(d4_wins).mean()"
   ]
  },
  {
   "cell_type": "code",
   "execution_count": 37,
   "id": "d83c5c24-167c-4d9d-b09c-d0e0b02065bc",
   "metadata": {},
   "outputs": [],
   "source": [
    "#6d4 is the clear winner, winning 55% of duals"
   ]
  },
  {
   "cell_type": "markdown",
   "id": "2d609dee-1089-42b3-b1b1-685452ad189c",
   "metadata": {},
   "source": [
    "### BONUS: Chuck a Luck"
   ]
  },
  {
   "cell_type": "markdown",
   "id": "87d09031-ced0-4967-9b1c-ffe8c710797e",
   "metadata": {},
   "source": [
    "#### Rules:\n",
    "\n",
    "##### The player pays $1 to play and picks a number.\n",
    "\n",
    "##### The House rolls 3 dice at once.\n",
    "\n",
    "##### Payouts:\n",
    "\n",
    "#####  - 3 if all three dice match the chosen number\n",
    "#####  - 2 if exactly two dice match the chosen number\n",
    "#####  - 1 is exactly one of the dice matches the chosen number\n",
    "#####  - If none of the dice match the player's chosen number, then the House keeps the $1."
   ]
  },
  {
   "cell_type": "markdown",
   "id": "61bed052-2197-43e4-bfc9-885668c9148d",
   "metadata": {
    "tags": []
   },
   "source": [
    "#### Exercises:"
   ]
  },
  {
   "cell_type": "code",
   "execution_count": 38,
   "id": "1454f0a8-f3b2-49c6-a073-045c4a9a1dc7",
   "metadata": {},
   "outputs": [],
   "source": [
    "import matplotlib.pyplot as plt\n",
    "import seaborn as sns"
   ]
  },
  {
   "cell_type": "code",
   "execution_count": 39,
   "id": "06dc17b0-0184-4e74-8097-dfb6f78737f3",
   "metadata": {},
   "outputs": [],
   "source": [
    "sims = 1_000_000\n",
    "throws = 3\n",
    "outcomes = [1,2,3,4,5,6]\n",
    "num = np.random.choice(outcomes)\n",
    "\n",
    "trials = np.random.choice(outcomes, (sims, throws))\n",
    "win = (trials == num).sum(axis=1)\n",
    "payout = win - 1"
   ]
  },
  {
   "cell_type": "markdown",
   "id": "c1cd51fc-1a29-4f6e-b816-c8ebb9ae0444",
   "metadata": {},
   "source": [
    "##### What are your chances of getting an outcome payout of 2? (where we earned 3 on the $1 ante)"
   ]
  },
  {
   "cell_type": "code",
   "execution_count": 40,
   "id": "b74e045f-c31a-4625-a3a8-301bdecd6adc",
   "metadata": {},
   "outputs": [
    {
     "data": {
      "text/plain": [
       "0.004626"
      ]
     },
     "execution_count": 40,
     "metadata": {},
     "output_type": "execute_result"
    }
   ],
   "source": [
    "(payout == 2).mean()"
   ]
  },
  {
   "cell_type": "markdown",
   "id": "1a1e5214-8070-45f1-a577-65ba39c68e78",
   "metadata": {},
   "source": [
    "##### What are your chances of getting an payout of $1?"
   ]
  },
  {
   "cell_type": "code",
   "execution_count": 41,
   "id": "50b854f5-cdb6-45f6-b999-8c20bbe0b28e",
   "metadata": {},
   "outputs": [
    {
     "data": {
      "text/plain": [
       "0.069289"
      ]
     },
     "execution_count": 41,
     "metadata": {},
     "output_type": "execute_result"
    }
   ],
   "source": [
    "(payout == 1).mean()"
   ]
  },
  {
   "cell_type": "markdown",
   "id": "49a43b84-ffdc-4c72-97df-2ccb456b29ad",
   "metadata": {},
   "source": [
    "##### What are your chances of getting a payout of 0 where you ante 1 and win 1?"
   ]
  },
  {
   "cell_type": "code",
   "execution_count": 42,
   "id": "fa3e27a2-9efe-4f2b-8a68-f898b537b51d",
   "metadata": {},
   "outputs": [
    {
     "data": {
      "text/plain": [
       "0.348092"
      ]
     },
     "execution_count": 42,
     "metadata": {},
     "output_type": "execute_result"
    }
   ],
   "source": [
    "(payout == 0).mean()"
   ]
  },
  {
   "cell_type": "markdown",
   "id": "9d9bc470-654d-48d9-891c-298b42a00f6f",
   "metadata": {},
   "source": [
    "##### What are your chances of getting a payout of -$1 where you ante up, but don't win anything?"
   ]
  },
  {
   "cell_type": "code",
   "execution_count": 43,
   "id": "7364c15e-7e39-4940-b41a-2b044b66408f",
   "metadata": {},
   "outputs": [
    {
     "data": {
      "text/plain": [
       "0.577993"
      ]
     },
     "execution_count": 43,
     "metadata": {},
     "output_type": "execute_result"
    }
   ],
   "source": [
    "(payout == -1).mean()"
   ]
  },
  {
   "cell_type": "markdown",
   "id": "a2e20297-bac5-434b-90d1-28b97f96144b",
   "metadata": {},
   "source": [
    "##### What is the average cost/gain per game? (think of averaging the total payout calculation across all simulations)"
   ]
  },
  {
   "cell_type": "code",
   "execution_count": 44,
   "id": "582a2056-97c2-4e3c-b57f-6dcc5678a095",
   "metadata": {},
   "outputs": [
    {
     "data": {
      "text/plain": [
       "-0.499452"
      ]
     },
     "execution_count": 44,
     "metadata": {},
     "output_type": "execute_result"
    }
   ],
   "source": [
    "payout.mean()"
   ]
  },
  {
   "cell_type": "markdown",
   "id": "ae221150-2208-4855-a56b-64956e55409c",
   "metadata": {},
   "source": [
    "##### Chart out a histogram of all the outcomes of those 1,000,000 games"
   ]
  },
  {
   "cell_type": "code",
   "execution_count": 45,
   "id": "c07a8d7a-4e7d-4b73-b607-2876b4fb661e",
   "metadata": {},
   "outputs": [
    {
     "data": {
      "image/png": "[encoded data removed]",
      "text/plain": [
       "<Figure size 432x288 with 1 Axes>"
      ]
     },
     "metadata": {
      "needs_background": "light"
     },
     "output_type": "display_data"
    }
   ],
   "source": [
    "sns.histplot(payout)\n",
    "plt.title(\"Payout from 1,000,000 Games of Chuck a Luck\")\n",
    "plt.show()"
   ]
  },
  {
   "cell_type": "markdown",
   "id": "4282ca59-6724-4c84-bee7-62ed4a3f9a6a",
   "metadata": {},
   "source": [
    "##### Is this really a fair game of 1/6 + 1/6 + 1/6 odds?"
   ]
  },
  {
   "cell_type": "code",
   "execution_count": 46,
   "id": "1e00ae55-e83f-45c7-9415-aaf9a17cbc6c",
   "metadata": {},
   "outputs": [],
   "source": [
    "# No"
   ]
  },
  {
   "cell_type": "markdown",
   "id": "45c401a8-03b2-45b5-a2da-0281f047a3ea",
   "metadata": {},
   "source": [
    "##### If you play 1,000,000 games in a row, what are your winnings/losses?"
   ]
  },
  {
   "cell_type": "code",
   "execution_count": 47,
   "id": "b3293378-eead-48a1-90e1-6433e78b02aa",
   "metadata": {},
   "outputs": [
    {
     "data": {
      "text/plain": [
       "-499452"
      ]
     },
     "execution_count": 47,
     "metadata": {},
     "output_type": "execute_result"
    }
   ],
   "source": [
    "payout.sum()"
   ]
  },
  {
   "cell_type": "code",
   "execution_count": null,
   "id": "2a1fa702-2706-42dc-9152-99e1a0616a02",
   "metadata": {},
   "outputs": [],
   "source": []
  }
 ],
 "metadata": {
  "kernelspec": {
   "display_name": "Python 3 (ipykernel)",
   "language": "python",
   "name": "python3"
  },
  "language_info": {
   "codemirror_mode": {
    "name": "ipython",
    "version": 3
   },
   "file_extension": ".py",
   "mimetype": "text/x-python",
   "name": "python",
   "nbconvert_exporter": "python",
   "pygments_lexer": "ipython3",
   "version": "3.9.12"
  }
 },
 "nbformat": 4,
 "nbformat_minor": 5
}
