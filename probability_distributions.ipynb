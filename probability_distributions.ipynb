{
 "cells": [
  {
   "cell_type": "code",
   "execution_count": 69,
   "id": "84213c97-d7f6-4b19-a4f8-5c8a7324d30d",
   "metadata": {},
   "outputs": [],
   "source": [
    "import matplotlib.pyplot as plt\n",
    "import numpy as np\n",
    "import pandas as pd\n",
    "from scipy import stats\n",
    "import env"
   ]
  },
  {
   "cell_type": "markdown",
   "id": "fb42c97d-3aca-4112-b3e0-f76e68390108",
   "metadata": {
    "tags": []
   },
   "source": [
    "### 1. A bank found that the average number of cars waiting during the noon hour at a drive-up window follows a Poisson distribution with a mean of 2 cars. Make a chart of this distribution and answer these questions concerning the probability of cars waiting at the drive-up window."
   ]
  },
  {
   "cell_type": "code",
   "execution_count": 70,
   "id": "4771b4ae-7ac0-4fcb-9700-68e73a0cffb9",
   "metadata": {},
   "outputs": [
    {
     "data": {
      "text/plain": [
       "<BarContainer object of 10 artists>"
      ]
     },
     "execution_count": 70,
     "metadata": {},
     "output_type": "execute_result"
    },
    {
     "data": {
      "image/png": "[encoded data removed]",
      "text/plain": [
       "<Figure size 432x288 with 1 Axes>"
      ]
     },
     "metadata": {
      "needs_background": "light"
     },
     "output_type": "display_data"
    }
   ],
   "source": [
    "# 2 cars waiting per noon hour\n",
    "λ = 2\n",
    "cars = stats.poisson(λ)\n",
    "\n",
    "x = np.arange(10)\n",
    "y = cars.pmf(x)\n",
    "plt.bar(x,y)"
   ]
  },
  {
   "cell_type": "markdown",
   "id": "870d004b-91ea-429f-bcad-504f8fd6f525",
   "metadata": {
    "tags": []
   },
   "source": [
    "#### 1.a What is the probability that no cars drive up in the noon hour?"
   ]
  },
  {
   "cell_type": "code",
   "execution_count": 71,
   "id": "68a9b66b-671c-4f2e-af69-440f1a3a26c7",
   "metadata": {},
   "outputs": [
    {
     "data": {
      "text/plain": [
       "0.1353352832366127"
      ]
     },
     "execution_count": 71,
     "metadata": {},
     "output_type": "execute_result"
    }
   ],
   "source": [
    "cars.pmf(0)"
   ]
  },
  {
   "cell_type": "markdown",
   "id": "0d93bc50-57b8-4499-b2c8-d795ceeba542",
   "metadata": {},
   "source": [
    "#### 1.b What is the probability that 3 or more cars come through the drive through?"
   ]
  },
  {
   "cell_type": "code",
   "execution_count": 72,
   "id": "de078ea5-325e-4a13-b240-eb4c1e389ff6",
   "metadata": {},
   "outputs": [
    {
     "data": {
      "text/plain": [
       "0.32332358381693654"
      ]
     },
     "execution_count": 72,
     "metadata": {},
     "output_type": "execute_result"
    }
   ],
   "source": [
    "cars.sf(2)"
   ]
  },
  {
   "cell_type": "markdown",
   "id": "842450c1-c8fa-4da3-b680-a6fdb949b033",
   "metadata": {},
   "source": [
    "#### 1.cHow likely is it that the drive through gets at least 1 car?"
   ]
  },
  {
   "cell_type": "code",
   "execution_count": 73,
   "id": "0210fe4e-f836-4693-9922-b7190b291da8",
   "metadata": {},
   "outputs": [
    {
     "data": {
      "text/plain": [
       "0.40600584970983794"
      ]
     },
     "execution_count": 73,
     "metadata": {},
     "output_type": "execute_result"
    }
   ],
   "source": [
    "cars.cdf(1)"
   ]
  },
  {
   "cell_type": "markdown",
   "id": "970db951-3253-4c3f-a607-d6df2d66cd30",
   "metadata": {},
   "source": [
    "### 2. Grades of State University graduates are normally distributed with a mean of 3.0 and a standard deviation of .3. Calculate the following:"
   ]
  },
  {
   "cell_type": "code",
   "execution_count": 74,
   "id": "34dc44d8-61a8-4029-80bd-f94cc824906e",
   "metadata": {},
   "outputs": [],
   "source": [
    "μ = 3\n",
    "σ = .3\n",
    "grades = stats.norm(μ, σ)"
   ]
  },
  {
   "cell_type": "markdown",
   "id": "520aea2d-eacc-4d7a-985a-80837ee380df",
   "metadata": {},
   "source": [
    "#### 2.a What grade point average is required to be in the top 5% of the graduating class?"
   ]
  },
  {
   "cell_type": "code",
   "execution_count": 75,
   "id": "78f68da5-9784-42aa-be01-c6917ece478a",
   "metadata": {},
   "outputs": [
    {
     "data": {
      "text/plain": [
       "3.4934560880854417"
      ]
     },
     "execution_count": 75,
     "metadata": {},
     "output_type": "execute_result"
    }
   ],
   "source": [
    "grades.isf(.05)"
   ]
  },
  {
   "cell_type": "markdown",
   "id": "72f0e4b4-57f0-48d7-8ef6-96f439f435a9",
   "metadata": {},
   "source": [
    "#### 2.b What GPA constitutes the bottom 15% of the class?"
   ]
  },
  {
   "cell_type": "code",
   "execution_count": 76,
   "id": "05a9e4ea-30ba-4e70-8df8-8e3ee1f90c68",
   "metadata": {},
   "outputs": [
    {
     "data": {
      "text/plain": [
       "2.689069983151863"
      ]
     },
     "execution_count": 76,
     "metadata": {},
     "output_type": "execute_result"
    }
   ],
   "source": [
    "grades.ppf(.15)"
   ]
  },
  {
   "cell_type": "markdown",
   "id": "5303f3e1-181e-4b99-8c57-b48ce772c6e7",
   "metadata": {},
   "source": [
    "#### 2.c An eccentric alumnus left scholarship money for students in the third decile from the bottom of their class. Determine the range of the third decile. Would a student with a 2.8 grade point average qualify for this scholarship?"
   ]
  },
  {
   "cell_type": "code",
   "execution_count": 77,
   "id": "73b7550a-b506-4c63-ba4c-6cee516897e0",
   "metadata": {},
   "outputs": [
    {
     "data": {
      "text/plain": [
       "array([2.84267985, 2.92399587])"
      ]
     },
     "execution_count": 77,
     "metadata": {},
     "output_type": "execute_result"
    }
   ],
   "source": [
    "grades.ppf([.3,.4])"
   ]
  },
  {
   "cell_type": "markdown",
   "id": "bc5f9ee3-f977-47dc-8e2e-c4dcb1c5e05b",
   "metadata": {},
   "source": [
    "#### 2.d If I have a GPA of 3.5, what percentile am I in?"
   ]
  },
  {
   "cell_type": "code",
   "execution_count": 78,
   "id": "81b4f1a7-dba6-4197-9421-996e5cad1758",
   "metadata": {},
   "outputs": [
    {
     "data": {
      "text/plain": [
       "0.9522096477271853"
      ]
     },
     "execution_count": 78,
     "metadata": {},
     "output_type": "execute_result"
    }
   ],
   "source": [
    "grades.cdf(3.5)"
   ]
  },
  {
   "cell_type": "markdown",
   "id": "3ef86761-ca6d-4168-a152-98fd1a7d31d2",
   "metadata": {},
   "source": [
    "### 3. A marketing website has an average click-through rate of 2%. One day they observe 4326 visitors and 97 click-throughs. How likely is it that this many people or more click through?"
   ]
  },
  {
   "cell_type": "code",
   "execution_count": 79,
   "id": "5c9fc342-7f4c-41f1-8fdd-bef478a22b7d",
   "metadata": {},
   "outputs": [
    {
     "data": {
      "text/plain": [
       "0.13975823631416448"
      ]
     },
     "execution_count": 79,
     "metadata": {},
     "output_type": "execute_result"
    }
   ],
   "source": [
    "p = .02 \n",
    "visitors = 4326\n",
    "clicks_observed = 97\n",
    "\n",
    "clicks = stats.binom(visitors, p)\n",
    "clicks.sf(96)"
   ]
  },
  {
   "cell_type": "markdown",
   "id": "8123598e-e42e-4e67-801a-4b6079b3b98c",
   "metadata": {},
   "source": [
    "### 4. You are working on some statistics homework consisting of 100 questions where all of the answers are a probability rounded to the hundreths place. Looking to save time, you put down random probabilities as the answer to each question. What is the probability that at least one of your first 60 answers is correct?"
   ]
  },
  {
   "cell_type": "code",
   "execution_count": 80,
   "id": "48a7fd19-a743-42e0-b9c9-441a35c044b8",
   "metadata": {},
   "outputs": [
    {
     "data": {
      "text/plain": [
       "0.44955038406224"
      ]
     },
     "execution_count": 80,
     "metadata": {},
     "output_type": "execute_result"
    }
   ],
   "source": [
    "trials = 60\n",
    "pos = 1/101\n",
    "test = stats.binom(trials, pos)\n",
    "\n",
    "test.sf(0)"
   ]
  },
  {
   "cell_type": "markdown",
   "id": "0b4ad5e4-cdba-4a76-8ff5-51cdfcc34422",
   "metadata": {},
   "source": [
    "### 5. The codeup staff tends to get upset when the student break area is not cleaned up. Suppose that there's a 3% chance that any one student cleans the break area when they visit it, and, on any given day, about 90% of the 3 active cohorts of 22 students visit the break area. "
   ]
  },
  {
   "cell_type": "code",
   "execution_count": 81,
   "id": "5b7b4f9b-f1ec-4a73-9ec3-19587e010b18",
   "metadata": {},
   "outputs": [],
   "source": [
    "p = .03\n",
    "visitors = 3*22*.9\n",
    "\n",
    "clean = stats.binom(visitors, p)"
   ]
  },
  {
   "cell_type": "markdown",
   "id": "4d485372-371f-499e-996b-90faa0ec3f84",
   "metadata": {},
   "source": [
    "#### How likely is it that the break area gets cleaned up each day? "
   ]
  },
  {
   "cell_type": "code",
   "execution_count": 82,
   "id": "c648432d-5033-4c1d-9656-fb947e181b64",
   "metadata": {},
   "outputs": [
    {
     "data": {
      "text/plain": [
       "0.300868680133005"
      ]
     },
     "execution_count": 82,
     "metadata": {},
     "output_type": "execute_result"
    }
   ],
   "source": [
    "clean.pmf(1)"
   ]
  },
  {
   "cell_type": "markdown",
   "id": "d88130c0-69c8-495e-b75d-2cd462e19981",
   "metadata": {},
   "source": [
    "#### How likely is it that it goes two days without getting cleaned up?"
   ]
  },
  {
   "cell_type": "code",
   "execution_count": 83,
   "id": "bb7b81d0-f0a3-410e-b6da-5794b2e2ed87",
   "metadata": {},
   "outputs": [
    {
     "data": {
      "text/plain": [
       "0.09854804018454233"
      ]
     },
     "execution_count": 83,
     "metadata": {},
     "output_type": "execute_result"
    }
   ],
   "source": [
    "two_days = stats.binom(visitors*2, p)\n",
    "two_days.pmf(1)"
   ]
  },
  {
   "cell_type": "markdown",
   "id": "bba742f1-1d53-489a-957a-6a7af15f7964",
   "metadata": {},
   "source": [
    " #### All week?"
   ]
  },
  {
   "cell_type": "code",
   "execution_count": 84,
   "id": "5d35c1a1-e69b-4aa8-9da8-a620cabc98dc",
   "metadata": {},
   "outputs": [
    {
     "data": {
      "text/plain": [
       "0.0010822087645185694"
      ]
     },
     "execution_count": 84,
     "metadata": {},
     "output_type": "execute_result"
    }
   ],
   "source": [
    "week = stats.binom(visitors*5, p)\n",
    "week.pmf(1)"
   ]
  },
  {
   "cell_type": "markdown",
   "id": "35f01adf-cea2-442e-a1e9-b02ae38c8422",
   "metadata": {},
   "source": [
    "### 6. You want to get lunch at La Panaderia, but notice that the line is usually very long at lunchtime. After several weeks of careful observation, you notice that the average number of people in line when your lunch break starts is normally distributed with a mean of 15 and standard deviation of 3. "
   ]
  },
  {
   "cell_type": "code",
   "execution_count": 85,
   "id": "40dcf9d3-db8f-43b1-9a17-f2fdbac0cc29",
   "metadata": {},
   "outputs": [],
   "source": [
    "μ = 15*2 # 2 minutes per person to order\n",
    "σ = 3*2 # 2 minutes per person to order\n",
    "\n",
    "line = stats.norm(μ, σ)"
   ]
  },
  {
   "cell_type": "markdown",
   "id": "f37a9c78-9044-4226-a2bd-24c5ea179cd5",
   "metadata": {},
   "source": [
    "#### If it takes 2 minutes for each person to order, and 10 minutes from ordering to getting your food, what is the likelihood that you have at least 15 minutes left to eat your food before you have to go back to class? Assume you have one hour for lunch, and ignore travel time to and from La Panaderia."
   ]
  },
  {
   "cell_type": "code",
   "execution_count": 86,
   "id": "927e95a4-02b4-4c62-84d9-2543ed65ab42",
   "metadata": {},
   "outputs": [
    {
     "data": {
      "text/plain": [
       "0.7976716190363569"
      ]
     },
     "execution_count": 86,
     "metadata": {},
     "output_type": "execute_result"
    }
   ],
   "source": [
    "# time for lunch = 60\n",
    "# time to get food = 10\n",
    "# time to eat = 15\n",
    "# find probability the line takes less than 35 minutes\n",
    "\n",
    "line.cdf(35)\n"
   ]
  },
  {
   "cell_type": "markdown",
   "id": "8dbb46a5-f8e5-4f5e-96c6-e06aba8255fe",
   "metadata": {
    "tags": []
   },
   "source": [
    "### 7. Connect to the employees database and find the average salary of current employees, along with the standard deviation. For the following questions, calculate the answer based on modeling the employees salaries with a normal distribution defined by the calculated mean and standard deviation then compare this answer to the actual values present in the salaries dataset."
   ]
  },
  {
   "cell_type": "code",
   "execution_count": 54,
   "id": "c8168a2b-9b1f-4a66-b8df-7d5200c66370",
   "metadata": {},
   "outputs": [],
   "source": [
    "url = f'mysql+pymysql://{env.user}:{env.password}@{env.host}/employees'\n",
    "sals = pd.DataFrame(pd.read_sql('SELECT * FROM salaries WHERE to_date > CURDATE();', url))"
   ]
  },
  {
   "cell_type": "code",
   "execution_count": 87,
   "id": "4a4e4602-39d8-4b32-8dae-e42e8a86b3d2",
   "metadata": {},
   "outputs": [
    {
     "data": {
      "text/plain": [
       "[72012.23585730705, 17309.99538025198]"
      ]
     },
     "execution_count": 87,
     "metadata": {},
     "output_type": "execute_result"
    }
   ],
   "source": [
    "avg_sal = sals.salary.mean()\n",
    "std_sal = sals.salary.std()\n",
    "[avg_sal, std_sal]"
   ]
  },
  {
   "cell_type": "code",
   "execution_count": 88,
   "id": "63256d5f-7659-4322-bfa8-baec6b0a0c1a",
   "metadata": {},
   "outputs": [],
   "source": [
    "monies = stats.norm(avg_sal, std_sal)"
   ]
  },
  {
   "cell_type": "markdown",
   "id": "1b19163a-4fee-4561-8318-96fdd18997df",
   "metadata": {},
   "source": [
    "#### 7.a What percent of employees earn less than 60,000?"
   ]
  },
  {
   "cell_type": "code",
   "execution_count": 89,
   "id": "549770d2-7408-4e66-a72d-1a1b4bf480b0",
   "metadata": {},
   "outputs": [
    {
     "data": {
      "text/plain": [
       "0.24385742480214423"
      ]
     },
     "execution_count": 89,
     "metadata": {},
     "output_type": "execute_result"
    }
   ],
   "source": [
    "monies.cdf(60_000)"
   ]
  },
  {
   "cell_type": "markdown",
   "id": "a5363bb9-51ba-4267-9905-ced68c4f8568",
   "metadata": {},
   "source": [
    "#### 7.b What percent of employees earn more than 95,000?"
   ]
  },
  {
   "cell_type": "code",
   "execution_count": 90,
   "id": "59aabc0a-91d0-4f84-af12-b79245140765",
   "metadata": {},
   "outputs": [
    {
     "data": {
      "text/plain": [
       "0.09209773465617083"
      ]
     },
     "execution_count": 90,
     "metadata": {},
     "output_type": "execute_result"
    }
   ],
   "source": [
    "monies.sf(94_999)"
   ]
  },
  {
   "cell_type": "markdown",
   "id": "a75d9b89-c737-4314-bab5-9c570514c1dc",
   "metadata": {},
   "source": [
    "#### 7.c What percent of employees earn between 65,000 and 80,000?"
   ]
  },
  {
   "cell_type": "code",
   "execution_count": 91,
   "id": "12d284a1-fa17-4391-9c22-9dc406510fac",
   "metadata": {},
   "outputs": [
    {
     "data": {
      "text/plain": [
       "array([0.34270292, 0.67776349])"
      ]
     },
     "execution_count": 91,
     "metadata": {},
     "output_type": "execute_result"
    }
   ],
   "source": [
    "monies.cdf([65_000, 80_000])"
   ]
  },
  {
   "cell_type": "code",
   "execution_count": 92,
   "id": "06fffd7e-32b6-4bf2-8c6e-78cd8373e6a5",
   "metadata": {},
   "outputs": [
    {
     "data": {
      "text/plain": [
       "0.3350605685446666"
      ]
     },
     "execution_count": 92,
     "metadata": {},
     "output_type": "execute_result"
    }
   ],
   "source": [
    "monies.cdf(80_000) - monies.cdf(65_000)"
   ]
  },
  {
   "cell_type": "markdown",
   "id": "fc22ec01-77e5-49bd-b678-791d6262b93b",
   "metadata": {},
   "source": [
    "#### 7.d What do the top 5% of employees make?"
   ]
  },
  {
   "cell_type": "code",
   "execution_count": 63,
   "id": "d5a87eb8-17a9-4fb3-8e04-7f6a7a480fd9",
   "metadata": {},
   "outputs": [
    {
     "data": {
      "text/plain": [
       "100484.64454102777"
      ]
     },
     "execution_count": 63,
     "metadata": {},
     "output_type": "execute_result"
    }
   ],
   "source": [
    "monies.isf(.05)"
   ]
  },
  {
   "cell_type": "code",
   "execution_count": null,
   "id": "b6c9c420-d6c1-46f5-a0df-fc0bdc3bc870",
   "metadata": {},
   "outputs": [],
   "source": []
  }
 ],
 "metadata": {
  "kernelspec": {
   "display_name": "Python 3 (ipykernel)",
   "language": "python",
   "name": "python3"
  },
  "language_info": {
   "codemirror_mode": {
    "name": "ipython",
    "version": 3
   },
   "file_extension": ".py",
   "mimetype": "text/x-python",
   "name": "python",
   "nbconvert_exporter": "python",
   "pygments_lexer": "ipython3",
   "version": "3.9.12"
  }
 },
 "nbformat": 4,
 "nbformat_minor": 5
}
